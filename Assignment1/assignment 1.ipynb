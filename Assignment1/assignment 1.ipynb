{
 "cells": [
  {
   "cell_type": "markdown",
   "metadata": {},
   "source": [
    "# The first part of the assignment, IDS 2020-2021\n",
    "In this Jupiter notebook, please, document your results and the way you have obtained them. Please use the _Python environment_ provided at the beginning of the course. In addition to the _Jupiter notebook_, please submit _one zip-file_ containing all datasets and other outputs you have generated (such as pdf, jpg, and others). Please make sure that the datasets and other outputs are easily identifiable, i.e. use names as requested in the corresponding question.\n",
    "\n",
    "This is the _only_ submission that is required (Jupiter notebook + zip-file). A separate report is _not_ needed and will not be considered for grading. \n",
    "\n",
    "Give your commented Python code and answers in the corresponding provided cells. Make sure to answer all questions in a clear and explicit manner and discuss your outputs. _Please do not change the general structure of this notebook_. You can, however, add additional markdown or code cells if necessary. <b>Please DO NOT CLEAR THE OUTPUT of the notebook you are submitting! </b>\n",
    "\n",
    "<font color=\"red\"> *Please make sure to include names and matriculation numbers of all group members in the slot provided below.* </font> If a name or a student id is missing, the student will not receive any points.\n",
    "\n",
    "Hint 1: While working on the assignment, you will get a better understanding of the dataset. Feel free to generate additional results and visualizations to support your answers. For example, this might be useful regarding data modification and simplification. <font color=\"red\">Ensure that all your claims are supported.</font>\n",
    "\n",
    "Hint 2: <font color=\"red\">Plan your time wisely. </font> A few parts of this assignment might take some time to run. It might be necessary to consider time management when you plan your group work.\n",
    "\n",
    "Hint 3: RWTHmoodle allows multiple submissions, with every new submission overwriting the previous one. <b>Partial submissions are therefore possible and encouraged. </b> This might be helpful in case of technical issues with RWTHMoodle, which may occur close to the deadline.\n"
   ]
  },
  {
   "cell_type": "markdown",
   "metadata": {},
   "source": [
    "## Preprocessing of the Dataset (5 points)\n",
    " Carry out the following preprocessing steps before starting the analysis:\n",
    " - Select 90% of dataset provided for this assignment by random sampling.\n",
    "     - Use one of the group member's student numbers as a seed.\n",
    "     - Rename the new generated dataset (which contains 90% of the data) to \"sampled_data\".\n",
    " - <font color='red'>Important!</font>  Export your *sampled_data* dataset and submit it with your assignment solution.\n",
    " - If it is not otherwise mentioned, you should always use your below created *sampled_data* as input for the questions."
   ]
  },
  {
   "cell_type": "code",
   "execution_count": 2,
   "metadata": {},
   "outputs": [
    {
     "name": "stdout",
     "output_type": "stream",
     "text": [
      "Row Number is  189 , New Row Number is  170\n"
     ]
    }
   ],
   "source": [
    "# Your code\n",
    "# finished\n",
    "import random\n",
    "import pandas as pd\n",
    "\n",
    "oldf = open(\"dataset.csv\")\n",
    "rowNum = len(oldf.readlines())-1 #exclude header\n",
    "oldf.close()\n",
    "newRowNum = int(rowNum*0.9) #Select 90%\n",
    "print (\"Row Number is \", rowNum,\", New Row Number is \", newRowNum)\n",
    "\n",
    "random.seed(123456) #Use one of the group member's student numbers as a seed\n",
    "skip = sorted(random.sample(range(1, rowNum + 1), rowNum - newRowNum))\n",
    "newf = pd.read_csv(\"dataset.csv\", skiprows=skip)\n",
    "newf.to_csv(\"sampled_data.csv\", index=False)"
   ]
  },
  {
   "cell_type": "markdown",
   "metadata": {},
   "source": [
    "## Question 1 - Insights into the Data (15 points):"
   ]
  },
  {
   "cell_type": "markdown",
   "metadata": {},
   "source": [
    "   (a)  Generate a dataset by removing those rows of the sampled_data dataset for which the value of \"SurfaceR\" is equal or bigger than 50000. Let's call this data set \"new_sampled_data\"."
   ]
  },
  {
   "cell_type": "code",
   "execution_count": 3,
   "metadata": {},
   "outputs": [],
   "source": [
    "# Your code\n",
    "# finished\n",
    "df = pd.read_csv(\"sampled_data.csv\", header=0)\n",
    "df[(df['SurfaceR'] < 50000)].to_csv(\"new_sampled_data.csv\", index=False)"
   ]
  },
  {
   "cell_type": "markdown",
   "metadata": {},
   "source": [
    "   (b)  Use a boxplot to find and remove the outliers from \"SurfaceR\". Note that based on the boxplot the values greater than the upper-whisker and lower than the lower-whisker are considered as outliers. Let's call the dataset after removing the outliers \"cleaned_data\". Now you should  have three datasets (sampled_data, new_sampled_data, and cleaned_data). "
   ]
  },
  {
   "cell_type": "code",
   "execution_count": 4,
   "metadata": {},
   "outputs": [
    {
     "data": {
      "image/png": "[encoded data removed]",
      "text/plain": [
       "<Figure size 432x288 with 1 Axes>"
      ]
     },
     "metadata": {
      "needs_background": "light"
     },
     "output_type": "display_data"
    }
   ],
   "source": [
    "# Your code\n",
    "# finished\n",
    "import seaborn as sns\n",
    "df = pd.read_csv(\"new_sampled_data.csv\", header=0)\n",
    "ax = sns.boxplot(x=df['SurfaceR'])\n",
    "Q1 = df['SurfaceR'].quantile(0.25)\n",
    "Q3 = df['SurfaceR'].quantile(0.75)\n",
    "IQR = Q3 - Q1\n",
    "filter = (df['SurfaceR'] >= Q1 - 1.5 * IQR) & (df['SurfaceR'] <= Q3 + 1.5 *IQR)\n",
    "df.loc[filter].to_csv(\"cleaned_data.csv\", index=False)"
   ]
  },
  {
   "cell_type": "markdown",
   "metadata": {},
   "source": [
    "   (c) Compare basic statistical features of \"SurfaceR\" (median, mean, and mode, standard deviation, variance) in the new_sampled_data and cleaned_data datasets.    Interpret the differences for these statistical values between the cleaned_data and new_sampled_data datasets. Explain why the statistics of these two datasets are different."
   ]
  },
  {
   "cell_type": "code",
   "execution_count": 1,
   "metadata": {},
   "outputs": [
    {
     "name": "stdout",
     "output_type": "stream",
     "text": [
      "|                    | new_sampled   | cleaned    |\n",
      "|--------------------+---------------+------------|\n",
      "| Median             | 600.00        | 425.00     |\n",
      "| Mean               | 3490.84       | 1037.18    |\n",
      "| Mode               | 300.00        | 300.00     |\n",
      "| Standard deviation | 7400.46       | 1151.97    |\n",
      "| Variance           | 54766845.35   | 1327035.98 |\n"
     ]
    }
   ],
   "source": [
    "# Your code\n",
    "# finished\n",
    "# median, mean, mode, standard deviation, variance\n",
    "import statistics\n",
    "import pandas as pd\n",
    "from tabulate import tabulate\n",
    "SurfaceR_new_sampled_data = pd.read_csv(\"new_sampled_data.csv\", header=0)['SurfaceR']\n",
    "SurfaceR_cleaned_data = pd.read_csv(\"cleaned_data.csv\", header=0)['SurfaceR']\n",
    "print (tabulate([['Median', statistics.median(SurfaceR_new_sampled_data), statistics.median(SurfaceR_cleaned_data)], \n",
    "                 ['Mean', statistics.mean(SurfaceR_new_sampled_data), statistics.mean(SurfaceR_cleaned_data)],\n",
    "                 ['Mode',statistics.mode(SurfaceR_new_sampled_data), statistics.mode(SurfaceR_cleaned_data)],\n",
    "                 ['Standard deviation', statistics.stdev(SurfaceR_new_sampled_data), statistics.stdev(SurfaceR_cleaned_data)],\n",
    "                 ['Variance',statistics.variance(SurfaceR_new_sampled_data),statistics.variance(SurfaceR_cleaned_data)]],\n",
    "                headers=['', 'new_sampled', 'cleaned'], tablefmt='orgtbl', numalign=\"left\", floatfmt=\".2f\"))"
   ]
  },
  {
   "cell_type": "code",
   "execution_count": null,
   "metadata": {},
   "outputs": [],
   "source": [
    "# Your code if needed\n",
    "# finished\n",
    "# the output:\n",
    "# |                    | new_sampled   | cleaned    |\n",
    "# |--------------------+---------------+------------|\n",
    "# | Median             | 600.00        | 425.00     |\n",
    "# | Mean               | 3490.84       | 1037.18    |\n",
    "# | Mode               | 300.00        | 300.00     |\n",
    "# | Standard deviation | 7400.46       | 1151.97    |\n",
    "# | Variance           | 54766845.35   | 1327035.98 |"
   ]
  },
  {
   "cell_type": "markdown",
   "metadata": {},
   "source": [
    "Explanation: The outliers are removed (mostly big numbers, as it is shown in the boxplot) so median and mean are smaller; Mode won't get affacted by the loss of some minority; Because the outliers are those far away from mean, after cleaning, the Standard deviation and Variance will be much smaller."
   ]
  },
  {
   "cell_type": "markdown",
   "metadata": {},
   "source": [
    "### Basic Visualization (10 points)\n",
    "(d) Visualize mean and median of \"SurfaceR\" in the cleaned dataset. Specify the \"Surroundings3\" values for which the mean and median of \"SurfaceR\" is maximal and for which it is minimal."
   ]
  },
  {
   "cell_type": "code",
   "execution_count": 2,
   "metadata": {},
   "outputs": [
    {
     "name": "stdout",
     "output_type": "stream",
     "text": [
      "Median of SurfaceR in total: 425.0\n",
      "Mean of SurfaceR in total: 1037.1830985915492\n",
      "\n",
      "\n",
      "|        | SurfaceR   |\n",
      "|--------+------------|\n",
      "| Median | 425.00     |\n",
      "| Mean   | 1037.18    |\n",
      "\n",
      "\n",
      "Median according to Surroundings3:\n",
      "Surroundings3\n",
      "a     300.0\n",
      "b     625.0\n",
      "d     200.0\n",
      "e     375.0\n",
      "f     750.0\n",
      "g    1000.0\n",
      "h     400.0\n",
      "Name: SurfaceR, dtype: float64\n"
     ]
    },
    {
     "data": {
      "image/png": "[encoded data removed]",
      "text/plain": [
       "<Figure size 432x288 with 1 Axes>"
      ]
     },
     "metadata": {
      "needs_background": "light"
     },
     "output_type": "display_data"
    },
    {
     "name": "stdout",
     "output_type": "stream",
     "text": [
      "\n",
      "\n",
      "Mean according to Surroundings3:\n",
      "Surroundings3\n",
      "a     745.454545\n",
      "b    1570.454545\n",
      "d     200.000000\n",
      "e     913.250000\n",
      "f    1120.000000\n",
      "g    1560.000000\n",
      "h     886.486486\n",
      "Name: SurfaceR, dtype: float64\n"
     ]
    },
    {
     "data": {
      "image/png": "[encoded data removed]",
      "text/plain": [
       "<Figure size 432x288 with 1 Axes>"
      ]
     },
     "metadata": {
      "needs_background": "light"
     },
     "output_type": "display_data"
    },
    {
     "name": "stdout",
     "output_type": "stream",
     "text": [
      "\n",
      " For Median, g is max, d is min; For Mean, b is max, d is min.\n"
     ]
    }
   ],
   "source": [
    "# Your code\n",
    "# finished\n",
    "import pandas as pd\n",
    "import seaborn as sns\n",
    "import numpy as np\n",
    "from numpy import median\n",
    "from numpy import mean\n",
    "import statistics\n",
    "import matplotlib.pyplot as plt\n",
    "from tabulate import tabulate\n",
    "\n",
    "df = pd.read_csv(\"cleaned_data.csv\", header=0)\n",
    "SurfaceR_cleaned_data = df['SurfaceR']\n",
    "print (\"Median of SurfaceR in total:\", statistics.median(SurfaceR_cleaned_data))\n",
    "print (\"Mean of SurfaceR in total:\", statistics.mean(SurfaceR_cleaned_data))\n",
    "print('\\n')\n",
    "\n",
    "print (tabulate([['Median', statistics.median(SurfaceR_cleaned_data)], \n",
    "                 ['Mean', statistics.mean(SurfaceR_cleaned_data)]],\n",
    "                headers=['', 'SurfaceR'], tablefmt='orgtbl', numalign=\"left\", floatfmt=\".2f\"))\n",
    "print('\\n')\n",
    "\n",
    "print (\"Median according to Surroundings3:\")\n",
    "sns.barplot(x=\"Surroundings3\", y=\"SurfaceR\", data=df, estimator=median)\n",
    "m = df.groupby(['Surroundings3'])['SurfaceR'].apply(np.median)\n",
    "print(m)\n",
    "plt.show()\n",
    "print('\\n')\n",
    "\n",
    "print (\"Mean according to Surroundings3:\")\n",
    "sns.barplot(x=\"Surroundings3\", y=\"SurfaceR\", data=df, estimator=mean)\n",
    "m = df.groupby(['Surroundings3'])['SurfaceR'].apply(np.mean)\n",
    "print(m)\n",
    "plt.show()\n",
    "\n",
    "print('\\n For Median, g is max, d is min; For Mean, b is max, d is min.')"
   ]
  },
  {
   "cell_type": "markdown",
   "metadata": {},
   "source": [
    "Explanation: As is shown in the graghs, for Median, g is max, d is min; for Mean, b is max, d is min."
   ]
  },
  {
   "cell_type": "markdown",
   "metadata": {},
   "source": [
    "   (e) Plot the distribution of \"SurfaceR\" in the new_sampled_data and cleaned_data datasets."
   ]
  },
  {
   "cell_type": "code",
   "execution_count": 3,
   "metadata": {},
   "outputs": [
    {
     "name": "stdout",
     "output_type": "stream",
     "text": [
      "new_sampled_data:\n"
     ]
    },
    {
     "data": {
      "image/png": "[encoded data removed]",
      "text/plain": [
       "<Figure size 432x288 with 1 Axes>"
      ]
     },
     "metadata": {
      "needs_background": "light"
     },
     "output_type": "display_data"
    },
    {
     "name": "stdout",
     "output_type": "stream",
     "text": [
      "cleaned_data:\n"
     ]
    },
    {
     "data": {
      "image/png": "[encoded data removed]",
      "text/plain": [
       "<Figure size 432x288 with 1 Axes>"
      ]
     },
     "metadata": {
      "needs_background": "light"
     },
     "output_type": "display_data"
    }
   ],
   "source": [
    "# Your code\n",
    "# finished\n",
    "import matplotlib.pyplot as plt\n",
    "print (\"new_sampled_data:\")\n",
    "plt.hist(SurfaceR_new_sampled_data)\n",
    "plt.show()\n",
    "print (\"cleaned_data:\")\n",
    "plt.hist(SurfaceR_cleaned_data)\n",
    "plt.show()"
   ]
  },
  {
   "cell_type": "markdown",
   "metadata": {},
   "source": [
    "   (f) Explore the distribution of \"SurfaceR\" and \"AcessR\" together in the new_sampled_data and cleaned_data datasets. Specify the ranges of \"SurfaceR\" and \"AcessR\" for which the frequency of the data is the highest."
   ]
  },
  {
   "cell_type": "code",
   "execution_count": 4,
   "metadata": {},
   "outputs": [
    {
     "name": "stdout",
     "output_type": "stream",
     "text": [
      "new_sampled_data, SurfaceR, highest frequency:  300\n"
     ]
    },
    {
     "data": {
      "image/png": "[encoded data removed]",
      "text/plain": [
       "<Figure size 1440x360 with 1 Axes>"
      ]
     },
     "metadata": {
      "needs_background": "light"
     },
     "output_type": "display_data"
    },
    {
     "name": "stdout",
     "output_type": "stream",
     "text": [
      "new_sampled_data, AcessR, highest frequency:  100\n"
     ]
    },
    {
     "data": {
      "image/png": "[encoded data removed]",
      "text/plain": [
       "<Figure size 1440x360 with 1 Axes>"
      ]
     },
     "metadata": {
      "needs_background": "light"
     },
     "output_type": "display_data"
    },
    {
     "name": "stdout",
     "output_type": "stream",
     "text": [
      "new_sampled_data SurfaceR together: \n"
     ]
    },
    {
     "data": {
      "image/png": "[encoded data removed]",
      "text/plain": [
       "<Figure size 1440x360 with 1 Axes>"
      ]
     },
     "metadata": {
      "needs_background": "light"
     },
     "output_type": "display_data"
    },
    {
     "name": "stdout",
     "output_type": "stream",
     "text": [
      "cleaned_data, SurfaceR, highest frequency:  300\n"
     ]
    },
    {
     "data": {
      "image/png": "[encoded data removed]",
      "text/plain": [
       "<Figure size 1440x360 with 1 Axes>"
      ]
     },
     "metadata": {
      "needs_background": "light"
     },
     "output_type": "display_data"
    },
    {
     "name": "stdout",
     "output_type": "stream",
     "text": [
      "cleaned_data, AcessR, highest frequency:  100\n"
     ]
    },
    {
     "data": {
      "image/png": "[encoded data removed]",
      "text/plain": [
       "<Figure size 1440x360 with 1 Axes>"
      ]
     },
     "metadata": {
      "needs_background": "light"
     },
     "output_type": "display_data"
    }
   ],
   "source": [
    "# Your code\n",
    "# finished\n",
    "import statistics\n",
    "binNum = 300\n",
    "\n",
    "print('new_sampled_data, SurfaceR, highest frequency: ', statistics.mode(SurfaceR_new_sampled_data))\n",
    "plt.figure(figsize=[20,5])\n",
    "plt.hist(SurfaceR_new_sampled_data, binNum, label='SurfaceR')\n",
    "plt.legend(loc='upper right')\n",
    "plt.show()\n",
    "\n",
    "AcessR_new_sampled_data = pd.read_csv(\"new_sampled_data.csv\", header=0)['AcessR']\n",
    "print('new_sampled_data, AcessR, highest frequency: ', statistics.mode(AcessR_new_sampled_data))\n",
    "plt.figure(figsize=[20,5])\n",
    "plt.hist(AcessR_new_sampled_data, binNum, label='AcessR')\n",
    "plt.legend(loc='upper right')\n",
    "plt.show()\n",
    "\n",
    "print('new_sampled_data SurfaceR together: ')\n",
    "plt.figure(figsize=[20,5])\n",
    "plt.hist(SurfaceR_new_sampled_data, binNum, label='SurfaceR')\n",
    "plt.hist(AcessR_new_sampled_data, binNum, label='AcessR')\n",
    "plt.legend(loc='upper right')\n",
    "plt.show()\n",
    "\n",
    "print('cleaned_data, SurfaceR, highest frequency: ', statistics.mode(SurfaceR_cleaned_data))\n",
    "plt.figure(figsize=[20,5])\n",
    "plt.hist(SurfaceR_cleaned_data, binNum, label='SurfaceR')\n",
    "plt.legend(loc='upper right')\n",
    "plt.show()\n",
    "\n",
    "AcessR_cleaned_data = pd.read_csv(\"cleaned_data.csv\", header=0)['AcessR']\n",
    "print('cleaned_data, AcessR, highest frequency: ', statistics.mode(AcessR_cleaned_data))\n",
    "plt.figure(figsize=[20,5])\n",
    "plt.hist(AcessR_cleaned_data, binNum, label='AcessR')\n",
    "plt.legend(loc='upper right')\n",
    "plt.show()"
   ]
  },
  {
   "cell_type": "markdown",
   "metadata": {},
   "source": [
    "Explanation:\n",
    "\n",
    "For both datasets, the highest frequency happens when AcessR=100 and SurfaceR=300."
   ]
  },
  {
   "cell_type": "markdown",
   "metadata": {},
   "source": [
    "## Question 2 - Decision Trees (15 points):"
   ]
  },
  {
   "cell_type": "markdown",
   "metadata": {},
   "source": [
    "   (a) Add a categorical column \"number_frogs\" to the new_sampled_data which indicate the number of different frogs in each region (row). For example, if in a row we have:\n",
    "       - \"Green frogs\" = 1, \"Brown frogs\" = 1, \"Common toad\" = 0, \"Fire-bellied toad\" = 0, \"Tree frog\" = 0, \"Common newt\" = 0, and \"Great crested newt\" = 0, then \"number_frogs\" = 'two'.\n",
    "       - \"Green frogs\" = 1, \"Brown frogs\" = 1, \"Common toad\" = 0, \"Fire-bellied toad\" = 0, \"Tree frog\" = 1, \"Common newt\" = 1, and \"Great crested newt\" = 0, then \"number_frogs\" = 'four'."
   ]
  },
  {
   "cell_type": "code",
   "execution_count": 51,
   "metadata": {},
   "outputs": [],
   "source": [
    "# Your code\n",
    "# finished\n",
    "from num2words import num2words\n",
    "df = pd.read_csv('new_sampled_data.csv')\n",
    "numberFrogColumn = df['Green frogs'] + df['Brown frogs']+ df['Common toad']+ df['Fire-bellied toad']+ df['Tree frog']+ df['Common newt']+ df['Great crested newt']\n",
    "# convert numbers to english words\n",
    "for index in range(len(numberFrogColumn)):\n",
    "    numberFrogColumn[index] = (num2words(numberFrogColumn[index]))\n",
    "df['number_frogs'] = numberFrogColumn\n",
    "df.to_csv('new_sampled_data_with_frogsNum.csv', index=False)"
   ]
  },
  {
   "cell_type": "markdown",
   "metadata": {},
   "source": [
    "   (b) In the new dataset (created in Section 'a'), consider \"TypeR\", \"VegetationR\", \"Surroundings1\", \"Surroundings2\", \"Surroundings3\" as    the descriptive features and \"number_frogs\" as the target feature. Generate two decision trees. Let's call them \"tree1\" and \"tree2\". In tree1 set the minimum number of samples for splitting to 15 and in tree2 set the minimum number of samples for splitting to 1. Create both decision trees based on entropy."
   ]
  },
  {
   "cell_type": "code",
   "execution_count": 9,
   "metadata": {},
   "outputs": [
    {
     "name": "stdout",
     "output_type": "stream",
     "text": [
      "descriptive features:\n",
      "Index(['TypeR', 'VegetationR', 'Surroundings1', 'Surroundings2',\n",
      "       'Surroundings3'],\n",
      "      dtype='object')\n",
      "\n",
      "target feature:\n",
      "number_frogs\n"
     ]
    }
   ],
   "source": [
    "# Your code\n",
    "# finished\n",
    "import pandas as pd\n",
    "from p_decision_tree.DecisionTree import DecisionTree\n",
    "\n",
    "data = pd.read_csv('new_sampled_data_with_frogsNum.csv')\n",
    "columns = data.columns\n",
    "\n",
    "#consider \"TypeR\", \"VegetationR\", \"Surroundings1\", \"Surroundings2\", \"Surroundings3\" as the descriptive features\n",
    "descriptive_features = columns[3:8]\n",
    "#\"number_frogs\" as the target feature\n",
    "label = columns[-1]\n",
    "\n",
    "#Converting all the columns to string\n",
    "for column in columns:\n",
    "    data[column]= data[column].astype(str)\n",
    "\n",
    "data_descriptive = data[descriptive_features].values\n",
    "data_label = data[label].values\n",
    "\n",
    "print(\"descriptive features:\")\n",
    "print(descriptive_features)\n",
    "print(\"\\ntarget feature:\\n\" + label)\n",
    "\n",
    "#Calling DecisionTree constructor\n",
    "tree1 = DecisionTree(data_descriptive.tolist(), descriptive_features.tolist(), data_label.tolist(), \"entropy\")\n",
    "tree2 = DecisionTree(data_descriptive.tolist(), descriptive_features.tolist(), data_label.tolist(), \"entropy\")\n",
    "\n",
    "tree1.id3(0,15)\n",
    "tree2.id3(0,1)\n",
    "\n",
    "#Visualizing decision tree by Graphviz\n",
    "dot1 = tree1.print_visualTree( render=True )\n",
    "#print(dot1)\n",
    "dot2 = tree2.print_visualTree( render=True )\n",
    "#print(dot2)"
   ]
  },
  {
   "cell_type": "markdown",
   "metadata": {},
   "source": [
    "   (c) Consider tree1. What is the best attribute (based on entropy) for splitting the tree in the second round of ID3 regarding the value of the attribute chosen in the first round of ID3?    "
   ]
  },
  {
   "cell_type": "markdown",
   "metadata": {},
   "source": [
    "Explanation: In my tree 1, based on entropy, after the first round, the tree uses one \"Surroundings2\" node and two \"Surroundings3\" nodes to split data. They are the best option to build the tree. If I have to choose one best attribute for the second round, I will leave \"Surroundings3\" there because in the best case, it is already used twice."
   ]
  },
  {
   "cell_type": "markdown",
   "metadata": {},
   "source": [
    "   (d) Compare tree1 and tree2 in terms of the possibility of overfitting and the complexity of the decision trees."
   ]
  },
  {
   "cell_type": "markdown",
   "metadata": {},
   "source": [
    "Explanation: Tree 2 is overfitting because the branches and levels are way too many, it is designed to fit every data point in the data set, so Tree 2 might not fit other data set properly. And Tree 2 is more complex compared to Tree 1 because of too many branches and levels, it will take more time to get the decision. In conclusion, Tree 1 is better than Tree 2."
   ]
  },
  {
   "cell_type": "markdown",
   "metadata": {},
   "source": [
    "## Question 3 - Regression (14 points):\n",
    "\n",
    "For this question (Q3), create and use a restricted dataset by removing the columns \"ID\", \"NumberR\", \"Surrounding1\", \"Surrounding2\", \"Surrounding3\", \"Common toad\", \"Fire-bellied toad\", \"Tree frog\", \"Common newt\", \"Great crested newt\" from the sampled_data.\n",
    "\n",
    "In this question, we consider \"Green frogs\" and \"Brown frogs\" to be potential target features, while all other features are potential descriptive features."
   ]
  },
  {
   "cell_type": "code",
   "execution_count": 55,
   "metadata": {},
   "outputs": [],
   "source": [
    "# Your code\n",
    "# finished\n",
    "import pandas as pd\n",
    "df = pd.read_csv('sampled_data.csv')\n",
    "df.drop([ \"ID\", \"NumberR\", \"Surroundings1\", \"Surroundings2\", \"Surroundings3\", \"Common toad\", \"Fire-bellied toad\", \"Tree frog\", \"Common newt\", \"Great crested newt\"], axis=1, inplace=True)\n",
    "df.to_csv('sampled_data_for_Regression.csv', index=False)"
   ]
  },
  {
   "cell_type": "markdown",
   "metadata": {},
   "source": [
    "   (a) Which features are suitable as input for logistic regression? Which would need to be modified first? Explain your answers."
   ]
  },
  {
   "cell_type": "code",
   "execution_count": 56,
   "metadata": {},
   "outputs": [],
   "source": [
    "# Your code\n",
    "# finished\n",
    "df = pd.read_csv('sampled_data_for_Regression.csv')\n",
    "# all columns: SurfaceR,TypeR,VegetationR,UseR,FishingR,AcessR,RoadDistanceR,BuildingR,PollutionR,ShoreR,Green frogs,Brown frogs\n",
    "# potential target features: Green frogs,Brown frogs\n",
    "# potential descriptive features: SurfaceR,TypeR,VegetationR,UseR,FishingR,AcessR,RoadDistanceR,BuildingR,PollutionR,ShoreR\n",
    "potentialDescriptiveFeatures_sampled_data_for_Regression = df[[\"SurfaceR\",\"TypeR\",\"VegetationR\",\"UseR\",\"FishingR\",\"AcessR\",\"RoadDistanceR\",\"BuildingR\",\"PollutionR\",\"ShoreR\"]]"
   ]
  },
  {
   "cell_type": "markdown",
   "metadata": {},
   "source": [
    "Explanation: \"TypeR\" and \"ShoreR\" need to be modified first because they are categorical attributes expressed in letters, \"SurfaceR\",\"VegetationR\",\"UseR\",\"FishingR\",\"AcessR\",\"RoadDistanceR\",\"BuildingR\",\"PollutionR\" are suitable as input because they are numerical."
   ]
  },
  {
   "cell_type": "markdown",
   "metadata": {},
   "source": [
    "   (b) Implement and briefly motivate an adequate modification. Print the resulting data set limited to the first two data rows. "
   ]
  },
  {
   "cell_type": "markdown",
   "metadata": {},
   "source": [
    "Explanation: replace each categorical value by a numerical value and adding an ordering with it"
   ]
  },
  {
   "cell_type": "code",
   "execution_count": 62,
   "metadata": {},
   "outputs": [
    {
     "name": "stdout",
     "output_type": "stream",
     "text": [
      "Before:\n",
      "  TypeR   ShoreR\n",
      "0     d  natural\n",
      "1     d  natural\n",
      "After:\n",
      "   TypeR  ShoreR\n",
      "0      2       1\n",
      "1      2       1\n"
     ]
    }
   ],
   "source": [
    "# Your code\n",
    "# finished\n",
    "# encode labels with value between 0 and n_classes-1\n",
    "from sklearn.preprocessing import LabelEncoder, OneHotEncoder\n",
    "df = pd.read_csv('sampled_data_for_Regression.csv')\n",
    "print(\"Before:\")\n",
    "print(df[[\"TypeR\",\"ShoreR\"]][:2]) #limited to the first two data rows\n",
    "\n",
    "encoder = LabelEncoder()\n",
    "df4 = pd.DataFrame(df[\"TypeR\"])\n",
    "df_LE = df4.apply(encoder.fit_transform)\n",
    "df[\"TypeR\"] = df_LE\n",
    "#print(df_LE[:2]) #limited to the first two data rows\n",
    "\n",
    "df4 = pd.DataFrame(df[\"ShoreR\"])\n",
    "df_LE = df4.apply(encoder.fit_transform)\n",
    "df[\"ShoreR\"] = df_LE\n",
    "\n",
    "df.to_csv('sampled_data_for_Regression_modified.csv', index=False)\n",
    "df = pd.read_csv('sampled_data_for_Regression_modified.csv')\n",
    "print(\"After:\")\n",
    "print(df[[\"TypeR\",\"ShoreR\"]][:2]) #limited to the first two data rows"
   ]
  },
  {
   "cell_type": "markdown",
   "metadata": {},
   "source": [
    "(c) We want to predict the presence of green frogs and brown frogs in the habitat, using a distinct logistic regression classifier for each frog type. \n",
    "\n",
    "Consider the set of features available in this question's unmodified data set (that is before Q3b). To get an overview of the data, choose and present some basic visualization as discussed in the lectures (e.g.  scatter matrix, scatter plots, charts, etc.). Based on this visualization, for each frog type choose the 4 most promising descriptive features to predict the presence of that frog type in the habitat. \n",
    "\n",
    "Explain your strategy and choices."
   ]
  },
  {
   "cell_type": "code",
   "execution_count": 72,
   "metadata": {},
   "outputs": [
    {
     "data": {
      "image/png": "[encoded data removed]",
      "text/plain": [
       "<Figure size 1800x360 with 20 Axes>"
      ]
     },
     "metadata": {
      "needs_background": "light"
     },
     "output_type": "display_data"
    },
    {
     "data": {
      "image/png": "[encoded data removed]",
      "text/plain": [
       "<Figure size 1080x360 with 12 Axes>"
      ]
     },
     "metadata": {
      "needs_background": "light"
     },
     "output_type": "display_data"
    }
   ],
   "source": [
    "# Your code\n",
    "# finished\n",
    "from sklearn.linear_model import LogisticRegression\n",
    "import seaborn as sns\n",
    "import matplotlib.pyplot as plt\n",
    "import pandas as pd\n",
    "\n",
    "df = pd.read_csv('sampled_data_for_Regression.csv')\n",
    "\n",
    "sns.pairplot(df, x_vars=[\"SurfaceR\",\"TypeR\",\"VegetationR\",\"UseR\",\"FishingR\",\"AcessR\",\"RoadDistanceR\",\"BuildingR\",\"PollutionR\",\"ShoreR\"],\n",
    "             y_vars=[\"Green frogs\",\"Brown frogs\"])\n",
    "plt.show()\n",
    "\n",
    "#abandon some really bad ones and see closer, Need data points to be different between 0 and 1 !!!\n",
    "\n",
    "sns.pairplot(df, x_vars=[\"SurfaceR\",\"TypeR\",\"AcessR\",\"RoadDistanceR\",\"BuildingR\",\"PollutionR\"],\n",
    "             y_vars=[\"Green frogs\",\"Brown frogs\"])\n",
    "plt.show()\n",
    "\n",
    "#choose relatively better ones.\n",
    "#For \"Green frogs\": \"SurfaceR\",\"PollutionR\",\"AcessR\",\"RoadDistanceR\"\n",
    "#For \"Brown frogs\": \"SurfaceR\",\"PollutionR\",\"AcessR\",\"TypeR\""
   ]
  },
  {
   "cell_type": "markdown",
   "metadata": {},
   "source": [
    "Explanation: At first, I choose pairplot to see how each of the potential descriptive features interacts with \"Green frogs\" and \"Brown frogs\". My goal is to find good descriptive features that can find out whether there are frogs or not (the result is either 0 or 1). To be more specific, I need the data points to be different when result = 1 or 0. For example, \"VegetationR\" when result = 1 is the same when result = 0, so I abandoned \"VegetationR\". However, I think all of the potential descriptive features are not good enough. In the end, I choose relatively better ones.\n",
    "For \"Green frogs\": \"SurfaceR\",\"PollutionR\",\"AcessR\",\"RoadDistanceR\"\n",
    "For \"Brown frogs\": \"SurfaceR\",\"PollutionR\",\"AcessR\",\"TypeR\""
   ]
  },
  {
   "cell_type": "markdown",
   "metadata": {},
   "source": [
    "   (d) For both frog types, train a logistic regression classifier to predict the presence of that frog type in the habitat. Use the descriptive features as chosen in Q3c. Apply the modification from Q3b if needed."
   ]
  },
  {
   "cell_type": "code",
   "execution_count": 73,
   "metadata": {},
   "outputs": [
    {
     "name": "stdout",
     "output_type": "stream",
     "text": [
      "Coefficients Green: \n",
      " [[ 0.00022898  0.00032731 -0.00188663  0.00420318]]\n",
      "Intercept Green: \n",
      " [5.79217305e-06]\n",
      "Target Feature Green: \n",
      " [1 0 1 0 0 1 0 1 0 0 0 1 1 1 1 0 0 1 1 1 1 1 1 0 1 1 1 1 1 1 0 0 1 1 0 0 0\n",
      " 1 0 1 1 0 1 1 1 0 1 1 0 0 1 1 0 1 1 0 1 0 1 0 0 0 0 0 0 1 0 0 1 0 0 1 0 1\n",
      " 1 0 0 1 0 1 1 0 1 1 1 1 0 1 0 1 1 0 0 0 1 1 0 0 1 0 0 0 1 0 0 0 0 0 0 0 0\n",
      " 0 0 0 1 0 0 1 1 1 1 1 0 1 1 1 1 1 0 1 1 1 1 0 1 1 1 1 0 0 1 0 0 0 1 1 0 1\n",
      " 1 0 1 1 0 0 1 0 0 1 1 0 1 1 1 1 0 0 1 0 0 0]\n",
      "Coefficients Brown: \n",
      " [[3.92162066e-06 2.00062832e-08 1.54679815e-02 2.75655872e-04]]\n",
      "Intercept Brown: \n",
      " [0.00015423]\n",
      "Target Feature Brown: \n",
      " [1 1 1 1 1 1 1 1 1 1 1 1 1 1 1 1 1 1 1 1 1 1 1 1 1 1 1 1 1 1 1 1 1 1 1 1 1\n",
      " 1 1 1 1 1 1 1 1 1 1 1 1 1 1 1 1 1 1 1 1 1 1 1 1 1 1 1 1 1 1 1 1 1 1 1 1 1\n",
      " 1 1 1 1 1 1 1 1 1 1 1 1 1 1 1 1 1 1 1 1 1 1 1 1 1 1 1 1 1 1 1 1 1 1 1 1 1\n",
      " 1 1 1 1 1 1 1 1 1 1 1 1 1 1 1 1 1 1 1 1 1 1 1 1 1 1 1 1 1 1 1 1 1 1 1 1 1\n",
      " 1 1 1 1 1 1 1 1 1 1 1 1 1 1 1 1 1 1 1 1 1 1]\n"
     ]
    }
   ],
   "source": [
    "# Your code\n",
    "# finished\n",
    "df = pd.read_csv('sampled_data_for_Regression_modified.csv')\n",
    "descriptiveFeatures_frog_green = df[[\"SurfaceR\",\"PollutionR\",\"AcessR\",\"RoadDistanceR\"]]\n",
    "targetFeature_frog_green = df['Green frogs']\n",
    "descriptiveFeatures_frog_brown = df[[\"SurfaceR\",\"PollutionR\",\"AcessR\",\"TypeR\"]]\n",
    "targetFeature_frog_brown = df['Brown frogs']\n",
    "\n",
    "from sklearn.linear_model import LogisticRegression\n",
    "classifier1 = LogisticRegression(solver = 'liblinear', multi_class = 'ovr')\n",
    "classifier1.fit(descriptiveFeatures_frog_green, targetFeature_frog_green)\n",
    "targetFeature1 = classifier1.predict(descriptiveFeatures_frog_green)\n",
    "print('Coefficients Green: \\n', classifier1.coef_)\n",
    "print('Intercept Green: \\n', classifier1.intercept_)\n",
    "print('Target Feature Green: \\n',targetFeature1)\n",
    "\n",
    "classifier2 = LogisticRegression(solver = 'liblinear', multi_class = 'ovr')\n",
    "classifier2.fit(descriptiveFeatures_frog_brown, targetFeature_frog_brown)\n",
    "targetFeature2 = classifier2.predict(descriptiveFeatures_frog_brown)\n",
    "print('Coefficients Brown: \\n', classifier2.coef_)\n",
    "print('Intercept Brown: \\n', classifier2.intercept_)\n",
    "print('Target Feature Brown: \\n',targetFeature2)"
   ]
  },
  {
   "cell_type": "markdown",
   "metadata": {},
   "source": [
    "   (e) For each of the two trained classifiers compute and print the confusion matrix."
   ]
  },
  {
   "cell_type": "code",
   "execution_count": 78,
   "metadata": {},
   "outputs": [
    {
     "name": "stdout",
     "output_type": "stream",
     "text": [
      "Green: \n",
      " [[44 26]\n",
      " [37 63]]\n",
      "Brown: \n",
      " [[  0  35]\n",
      " [  0 135]]\n"
     ]
    }
   ],
   "source": [
    "# Your code\n",
    "# finished\n",
    "import pandas as pd\n",
    "from sklearn.metrics import confusion_matrix\n",
    "print('Green: \\n', confusion_matrix(targetFeature_frog_green, targetFeature1))\n",
    "print('Brown: \\n', confusion_matrix(targetFeature_frog_brown, targetFeature2))"
   ]
  },
  {
   "cell_type": "markdown",
   "metadata": {},
   "source": [
    "(f) Based on the information computed in Q3 so far, interpret and evaluate the two models and compare them. Why are they similar/different? Would you recommend the models and why (not)? How do you think the applied methods could be improved to get better results?"
   ]
  },
  {
   "cell_type": "markdown",
   "metadata": {},
   "source": [
    "Explanation: For both frog types, the models are trained by a logistic regression classifier. The descriptive features chosen for these two frog types are just slightly different because of what is shown in Q3 (c). But \"Brown frogs\" is not as easy to be decided as \"Green frogs\", because it doesn't seem to rely on these descriptive features much. I would recommend the model for \"Green frogs\" because the confusion matrix looks fine, but not the model for \"Brown frogs\", I think we need other better descriptive features or data outside of the given dataset for \"Brown frogs\"."
   ]
  },
  {
   "cell_type": "markdown",
   "metadata": {},
   "source": [
    "## Question 4 - Support Vector Machines (8 points):\n",
    "\n",
    "For this question (Q4), restrict your data set to the same features as in Q3. Similar to Q3, we want to train two distinct classifiers predicting the presence of green frogs and brown frogs in the habitat. \n",
    "\n",
    "In this question, we will use SVMs instead of logistic regression. In the following, consider *Green frogs* and *Brown frogs* to be potential target features, while all other features are potential descriptive features."
   ]
  },
  {
   "cell_type": "code",
   "execution_count": 2,
   "metadata": {},
   "outputs": [],
   "source": [
    "# Your code\n",
    "# finished\n",
    "import pandas as pd\n",
    "from sklearn.svm import SVC\n",
    "df = pd.read_csv('sampled_data_for_Regression_modified.csv')"
   ]
  },
  {
   "cell_type": "markdown",
   "metadata": {},
   "source": [
    "   (a) Which of the potential descriptive features are suitable as an input for SVMs and which need to be modified first? Modify the data as needed and provide a brief explanation. Print the first two data rows of the modified data set."
   ]
  },
  {
   "cell_type": "code",
   "execution_count": 3,
   "metadata": {},
   "outputs": [
    {
     "name": "stdout",
     "output_type": "stream",
     "text": [
      "Before:\n",
      "  TypeR   ShoreR\n",
      "0     d  natural\n",
      "1     d  natural\n",
      "After:\n",
      "   TypeR  ShoreR\n",
      "0      2       1\n",
      "1      2       1\n"
     ]
    }
   ],
   "source": [
    "# Your code\n",
    "# finished\n",
    "# same as regression\n",
    "# encode labels with value between 0 and n_classes-1\n",
    "\n",
    "#\"TypeR\" and \"ShoreR\" need to be modified first because they are categorical attributes expressed in letters, \n",
    "#\"SurfaceR\",\"VegetationR\",\"UseR\",\"FishingR\",\"AcessR\",\"RoadDistanceR\",\"BuildingR\",\"PollutionR\" are suitable as input because they are numerical.\n",
    "\n",
    "from sklearn.preprocessing import LabelEncoder, OneHotEncoder\n",
    "df = pd.read_csv('sampled_data_for_Regression.csv')\n",
    "print(\"Before:\")\n",
    "print(df[[\"TypeR\",\"ShoreR\"]][:2]) #limited to the first two data rows\n",
    "\n",
    "encoder = LabelEncoder()\n",
    "df4 = pd.DataFrame(df[\"TypeR\"])\n",
    "df_LE = df4.apply(encoder.fit_transform)\n",
    "df[\"TypeR\"] = df_LE\n",
    "#print(df_LE[:2]) #limited to the first two data rows\n",
    "\n",
    "df4 = pd.DataFrame(df[\"ShoreR\"])\n",
    "df_LE = df4.apply(encoder.fit_transform)\n",
    "df[\"ShoreR\"] = df_LE\n",
    "\n",
    "df.to_csv('sampled_data_for_Regression_modified.csv', index=False)\n",
    "df = pd.read_csv('sampled_data_for_Regression_modified.csv')\n",
    "print(\"After:\")\n",
    "print(df[[\"TypeR\",\"ShoreR\"]][:2]) #limited to the first two data rows"
   ]
  },
  {
   "cell_type": "markdown",
   "metadata": {},
   "source": [
    "Explanation: \"TypeR\" and \"ShoreR\" need to be modified first because they are categorical attributes expressed in letters, \n",
    "#\"SurfaceR\",\"VegetationR\",\"UseR\",\"FishingR\",\"AcessR\",\"RoadDistanceR\",\"BuildingR\",\"PollutionR\" are suitable as input because they are numerical."
   ]
  },
  {
   "cell_type": "markdown",
   "metadata": {},
   "source": [
    "   (b) For each frog type, consider the same set of 4 descriptive features as chosen in Q3 c). Generate for both target features a training and test set based on all data rows (for example, consider the sampling strategies as explained in the lecture) of the restricted data set. Briefly explain and motivate the choice of the sampling strategy as well as the size of the training and test set."
   ]
  },
  {
   "cell_type": "code",
   "execution_count": 5,
   "metadata": {},
   "outputs": [
    {
     "name": "stdout",
     "output_type": "stream",
     "text": [
      "========== C=1, kernel='rbf' ==========\n",
      "\n",
      "Green Accuracy: [0.64705882 0.70588235 0.58823529 0.35294118 0.70588235 0.76470588\n",
      " 0.88235294 0.58823529 0.76470588 0.52941176]\n",
      "Green Accuracy Mean: 0.6529411764705882\n",
      "Green classification report: \n",
      "\n",
      "              precision    recall  f1-score   support\n",
      "\n",
      "           0       0.63      0.39      0.48        70\n",
      "           1       0.66      0.84      0.74       100\n",
      "\n",
      "    accuracy                           0.65       170\n",
      "   macro avg       0.64      0.61      0.61       170\n",
      "weighted avg       0.65      0.65      0.63       170\n",
      "\n",
      "Brown Accuracy: [0.82352941 0.82352941 0.82352941 0.82352941 0.82352941 0.82352941\n",
      " 0.76470588 0.76470588 0.70588235 0.70588235]\n",
      "Brown Accuracy Mean: 0.788235294117647\n",
      "Brown classification report: \n",
      "\n",
      "              precision    recall  f1-score   support\n",
      "\n",
      "           0       0.44      0.11      0.18        35\n",
      "           1       0.81      0.96      0.88       135\n",
      "\n",
      "    accuracy                           0.79       170\n",
      "   macro avg       0.63      0.54      0.53       170\n",
      "weighted avg       0.73      0.79      0.73       170\n",
      "\n"
     ]
    }
   ],
   "source": [
    "# Your code\n",
    "# finished\n",
    "# define descriptive and target features as before\n",
    "import pandas as pd\n",
    "import statistics\n",
    "from sklearn.svm import SVC\n",
    "from sklearn.model_selection import cross_val_score\n",
    "from sklearn.model_selection import cross_val_predict\n",
    "from sklearn.metrics import classification_report\n",
    "\n",
    "df = pd.read_csv('sampled_data_for_Regression_modified.csv')\n",
    "descriptiveFeatures_frog_green = df[[\"SurfaceR\",\"PollutionR\",\"AcessR\",\"RoadDistanceR\"]]\n",
    "targetFeature_frog_green = df['Green frogs']\n",
    "descriptiveFeatures_frog_brown = df[[\"SurfaceR\",\"PollutionR\",\"AcessR\",\"TypeR\"]]\n",
    "targetFeature_frog_brown = df['Brown frogs']\n",
    "\n",
    "#train an SVM classifier\n",
    "classifier_green = SVC(C=1, kernel='rbf', gamma = 'auto')\n",
    "score_green = cross_val_score(classifier_green, descriptiveFeatures_frog_green, targetFeature_frog_green, scoring='accuracy', cv=10)\n",
    "targetFeature_green_predict = cross_val_predict(classifier_green, descriptiveFeatures_frog_green, targetFeature_frog_green, cv=10)\n",
    "\n",
    "classifier_brown = SVC(C=1, kernel='rbf', gamma = 'auto')\n",
    "score_brown = cross_val_score(classifier_brown, descriptiveFeatures_frog_brown, targetFeature_frog_brown, scoring='accuracy', cv=10)\n",
    "targetFeature_brown_predict = cross_val_predict(classifier_brown, descriptiveFeatures_frog_brown, targetFeature_frog_brown, cv=10)\n",
    "\n",
    "print(\"========== C=1, kernel='rbf' ==========\\n\")\n",
    "\n",
    "print(\"Green Accuracy:\", score_green)\n",
    "print(\"Green Accuracy Mean:\", statistics.mean(score_green))\n",
    "print('Green classification report: \\n')\n",
    "print(classification_report(targetFeature_frog_green, targetFeature_green_predict)) \n",
    "\n",
    "print(\"Brown Accuracy:\", score_brown)\n",
    "print(\"Brown Accuracy Mean:\", statistics.mean(score_brown))\n",
    "print('Brown classification report: \\n')\n",
    "print(classification_report(targetFeature_frog_brown, targetFeature_brown_predict)) "
   ]
  },
  {
   "cell_type": "markdown",
   "metadata": {},
   "source": [
    "Explanation: For the SVM classifier I used radial basis function kernel and typical C, because the result is 0 or 1. I used 10-fold cross validation to generate training and test set, it is good because 10 is a typical value, it can yield test error rate estimates that suffer neither from excessively high bias nor from very high variance. My test set is one-tenth of the entire data set."
   ]
  },
  {
   "cell_type": "markdown",
   "metadata": {},
   "source": [
    "   (c) Use the training set to train 4 different SVMs (2 per frog type) with different parameter combinations. Use at least two distinct values for the parameters *kernel* and *C*.\n",
    "\n",
    "*Hint: depending on the size of the training data and chosen parameters, training the SVMs may take some time.*"
   ]
  },
  {
   "cell_type": "code",
   "execution_count": 9,
   "metadata": {},
   "outputs": [
    {
     "name": "stdout",
     "output_type": "stream",
     "text": [
      "========== C=0.01, kernel='rbf' ==========\n",
      "\n",
      "Green Accuracy: [0.58823529 0.58823529 0.58823529 0.58823529 0.58823529 0.58823529\n",
      " 0.58823529 0.58823529 0.58823529 0.58823529]\n",
      "Green Accuracy Mean: 0.5882352941176471\n",
      "Green classification report: \n",
      "\n",
      "              precision    recall  f1-score   support\n",
      "\n",
      "           0       0.00      0.00      0.00        70\n",
      "           1       0.59      1.00      0.74       100\n",
      "\n",
      "    accuracy                           0.59       170\n",
      "   macro avg       0.29      0.50      0.37       170\n",
      "weighted avg       0.35      0.59      0.44       170\n",
      "\n",
      "Brown Accuracy: [0.82352941 0.82352941 0.82352941 0.82352941 0.82352941 0.76470588\n",
      " 0.76470588 0.76470588 0.76470588 0.76470588]\n",
      "Brown Accuracy Mean: 0.7941176470588235\n",
      "Brown classification report: \n",
      "\n",
      "              precision    recall  f1-score   support\n",
      "\n",
      "           0       0.00      0.00      0.00        35\n",
      "           1       0.79      1.00      0.89       135\n",
      "\n",
      "    accuracy                           0.79       170\n",
      "   macro avg       0.40      0.50      0.44       170\n",
      "weighted avg       0.63      0.79      0.70       170\n",
      "\n"
     ]
    }
   ],
   "source": [
    "# Your code\n",
    "# finished\n",
    "classifier1_green = SVC(C=0.01, kernel='rbf', gamma = 'auto')\n",
    "score_green1 = cross_val_score(classifier1_green, descriptiveFeatures_frog_green, targetFeature_frog_green, scoring='accuracy', cv=10)\n",
    "targetFeature_green_predict1 = cross_val_predict(classifier1_green, descriptiveFeatures_frog_green, targetFeature_frog_green, cv=10)\n",
    "\n",
    "classifier1_brown = SVC(C=0.01, kernel='rbf', gamma = 'auto')\n",
    "score_brown1 = cross_val_score(classifier1_brown, descriptiveFeatures_frog_brown, targetFeature_frog_brown, scoring='accuracy', cv=10)\n",
    "targetFeature_brown_predict1 = cross_val_predict(classifier1_brown, descriptiveFeatures_frog_brown, targetFeature_frog_brown, cv=10)\n",
    "\n",
    "print(\"========== C=0.01, kernel='rbf' ==========\\n\")\n",
    "\n",
    "print(\"Green Accuracy:\", score_green1)\n",
    "print(\"Green Accuracy Mean:\", statistics.mean(score_green1))\n",
    "print('Green classification report: \\n')\n",
    "print(classification_report(targetFeature_frog_green, targetFeature_green_predict1, zero_division=0)) \n",
    "\n",
    "print(\"Brown Accuracy:\", score_brown1)\n",
    "print(\"Brown Accuracy Mean:\", statistics.mean(score_brown1))\n",
    "print('Brown classification report: \\n')\n",
    "print(classification_report(targetFeature_frog_brown, targetFeature_brown_predict1, zero_division=0)) "
   ]
  },
  {
   "cell_type": "code",
   "execution_count": 7,
   "metadata": {},
   "outputs": [
    {
     "name": "stdout",
     "output_type": "stream",
     "text": [
      "========== C=1, kernel='linear' ==========\n",
      "\n",
      "Green Accuracy: [0.76470588 0.76470588 0.47058824 0.47058824 0.58823529 0.52941176\n",
      " 0.76470588 0.70588235 0.64705882 0.58823529]\n",
      "Green Accuracy Mean: 0.6294117647058823\n",
      "Green classification report: \n",
      "\n",
      "              precision    recall  f1-score   support\n",
      "\n",
      "           0       0.54      0.66      0.59        70\n",
      "           1       0.72      0.61      0.66       100\n",
      "\n",
      "    accuracy                           0.63       170\n",
      "   macro avg       0.63      0.63      0.63       170\n",
      "weighted avg       0.64      0.63      0.63       170\n",
      "\n",
      "Brown Accuracy: [0.82352941 0.82352941 0.82352941 0.82352941 0.82352941 0.82352941\n",
      " 0.76470588 0.64705882 0.70588235 0.76470588]\n",
      "Brown Accuracy Mean: 0.7823529411764706\n",
      "Brown classification report: \n",
      "\n",
      "              precision    recall  f1-score   support\n",
      "\n",
      "           0       0.25      0.03      0.05        35\n",
      "           1       0.80      0.98      0.88       135\n",
      "\n",
      "    accuracy                           0.78       170\n",
      "   macro avg       0.52      0.50      0.46       170\n",
      "weighted avg       0.68      0.78      0.71       170\n",
      "\n"
     ]
    }
   ],
   "source": [
    "classifier2_green = SVC(C=1, kernel='linear', gamma = 'auto')\n",
    "score_green2 = cross_val_score(classifier2_green, descriptiveFeatures_frog_green, targetFeature_frog_green, scoring='accuracy', cv=10)\n",
    "targetFeature_green_predict2 = cross_val_predict(classifier2_green, descriptiveFeatures_frog_green, targetFeature_frog_green, cv=10)\n",
    "\n",
    "classifier2_brown = SVC(C=1, kernel='linear', gamma = 'auto')\n",
    "score_brown2 = cross_val_score(classifier2_brown, descriptiveFeatures_frog_brown, targetFeature_frog_brown, scoring='accuracy', cv=10)\n",
    "targetFeature_brown_predict2 = cross_val_predict(classifier2_brown, descriptiveFeatures_frog_brown, targetFeature_frog_brown, cv=10)\n",
    "\n",
    "print(\"========== C=1, kernel='linear' ==========\\n\")\n",
    "\n",
    "print(\"Green Accuracy:\", score_green2)\n",
    "print(\"Green Accuracy Mean:\", statistics.mean(score_green2))\n",
    "print('Green classification report: \\n')\n",
    "print(classification_report(targetFeature_frog_green, targetFeature_green_predict2, zero_division=0)) \n",
    "\n",
    "print(\"Brown Accuracy:\", score_brown2)\n",
    "print(\"Brown Accuracy Mean:\", statistics.mean(score_brown2))\n",
    "print('Brown classification report: \\n')\n",
    "print(classification_report(targetFeature_frog_brown, targetFeature_brown_predict2, zero_division=0)) "
   ]
  },
  {
   "cell_type": "code",
   "execution_count": 10,
   "metadata": {},
   "outputs": [
    {
     "name": "stdout",
     "output_type": "stream",
     "text": [
      "========== C=100, kernel='rbf' ==========\n",
      "\n",
      "Green Accuracy: [0.64705882 0.70588235 0.58823529 0.35294118 0.70588235 0.76470588\n",
      " 0.82352941 0.58823529 0.82352941 0.58823529]\n",
      "Green Accuracy Mean: 0.6588235294117647\n",
      "Green classification report: \n",
      "\n",
      "              precision    recall  f1-score   support\n",
      "\n",
      "           0       0.62      0.46      0.52        70\n",
      "           1       0.68      0.80      0.73       100\n",
      "\n",
      "    accuracy                           0.66       170\n",
      "   macro avg       0.65      0.63      0.63       170\n",
      "weighted avg       0.65      0.66      0.65       170\n",
      "\n",
      "Brown Accuracy: [0.82352941 0.82352941 0.82352941 0.70588235 0.82352941 0.82352941\n",
      " 0.76470588 0.76470588 0.70588235 0.70588235]\n",
      "Brown Accuracy Mean: 0.7764705882352941\n",
      "Brown classification report: \n",
      "\n",
      "              precision    recall  f1-score   support\n",
      "\n",
      "           0       0.36      0.11      0.17        35\n",
      "           1       0.81      0.95      0.87       135\n",
      "\n",
      "    accuracy                           0.78       170\n",
      "   macro avg       0.58      0.53      0.52       170\n",
      "weighted avg       0.71      0.78      0.73       170\n",
      "\n"
     ]
    }
   ],
   "source": [
    "classifier3_green = SVC(C=100, kernel='rbf', gamma = 'auto')\n",
    "score_green3 = cross_val_score(classifier3_green, descriptiveFeatures_frog_green, targetFeature_frog_green, scoring='accuracy', cv=10)\n",
    "targetFeature_green_predict3 = cross_val_predict(classifier3_green, descriptiveFeatures_frog_green, targetFeature_frog_green, cv=10)\n",
    "\n",
    "classifier3_brown = SVC(C=100, kernel='rbf', gamma = 'auto')\n",
    "score_brown3 = cross_val_score(classifier3_brown, descriptiveFeatures_frog_brown, targetFeature_frog_brown, scoring='accuracy', cv=10)\n",
    "targetFeature_brown_predict3 = cross_val_predict(classifier3_brown, descriptiveFeatures_frog_brown, targetFeature_frog_brown, cv=10)\n",
    "\n",
    "print(\"========== C=100, kernel='rbf' ==========\\n\")\n",
    "\n",
    "print(\"Green Accuracy:\", score_green3)\n",
    "print(\"Green Accuracy Mean:\", statistics.mean(score_green3))\n",
    "print('Green classification report: \\n')\n",
    "print(classification_report(targetFeature_frog_green, targetFeature_green_predict3, zero_division=0)) \n",
    "\n",
    "print(\"Brown Accuracy:\", score_brown3)\n",
    "print(\"Brown Accuracy Mean:\", statistics.mean(score_brown3))\n",
    "print('Brown classification report: \\n')\n",
    "print(classification_report(targetFeature_frog_brown, targetFeature_brown_predict3, zero_division=0)) "
   ]
  },
  {
   "cell_type": "markdown",
   "metadata": {},
   "source": [
    "   (d) Compute and print the mean accuracy and the classification report of the trained SVMs with respect to the test set (see instruction for examples)."
   ]
  },
  {
   "cell_type": "markdown",
   "metadata": {},
   "source": [
    "   (e) Based on the information computed in Q4 so far, interpret and evaluate the 4 SVMs and compare them. Why are they similar/different? Would you recommend using these SVMs and why (not)?"
   ]
  },
  {
   "cell_type": "markdown",
   "metadata": {},
   "source": [
    "Explanation: I trained several SVMs to see how they behave when changing kernel and Regularization parameter C individually. For both frog types, there are models: \n",
    "(1) C=1, kernel='rbf'(radial basis function). \n",
    "(2) C=0.01, kernel='rbf'. \n",
    "(3) C=1, kernel='linear'. \n",
    "(4) C=100, kernel='rbf'. \n",
    "For Green Frogs, the models with C=1 or 100 all work well, so radial basis function kernel and linear kernel are both suitable for the dataset. But linear kernel takes more time so I won't recommend it. And the linear kernel will work fine if the dataset is linearly separable, in this case, although it seems to be linearly separable, but since the result of frogs is either 0 or 1, radial basis function might be better. When I change C to 0.01, the performance apparently goes worse. We can tell by checking the F1 score since it is a weighted harmonic mean of precision and recall which can compare classifier models in a better way. Since the C parameter decides how much to avoid misclassifying each training example, a small C like 0.01 will misclassify more data to get a larger-margin hyperplane (underfitting). Normally we only use small C when data is not separable. And a too high C might lead to overfitting. In conclusion, I recommend C=1, kernel='rbf' for Green Frogs.\n",
    "For Brown Frogs, mostly the same. C=1, kernel='rbf' is the best among all the models. But the result 0 seems to be bad in all models, compared with Green Frogs. Maybe we need more data or better features outside of the given dataset for Brown Frogs. And I think SVM is doing a better job than regression."
   ]
  },
  {
   "cell_type": "markdown",
   "metadata": {},
   "source": [
    "## Question 5 - Neural Networks (15 points)\n",
    "In this question consider the sampled_data, which is the dataset that you have created in the *Preprocessing of Dataset* section. The target features are the *different frogs*."
   ]
  },
  {
   "cell_type": "markdown",
   "metadata": {},
   "source": [
    "   (a) What are the possible inputs of your network?\n",
    "   \n",
    "     - Give the number of possible values of the different categorical inputs.\n",
    "     - Give the number of possible input patterns for the categorical data."
   ]
  },
  {
   "cell_type": "code",
   "execution_count": 12,
   "metadata": {},
   "outputs": [
    {
     "name": "stdout",
     "output_type": "stream",
     "text": [
      "========= The information about the data =========\n",
      "\n",
      "<class 'pandas.core.frame.DataFrame'>\n",
      "RangeIndex: 170 entries, 0 to 169\n",
      "Data columns (total 21 columns):\n",
      "SurfaceR              170 non-null int64\n",
      "NumberR               170 non-null int64\n",
      "TypeR                 170 non-null object\n",
      "VegetationR           170 non-null int64\n",
      "Surroundings1         170 non-null object\n",
      "Surroundings2         170 non-null object\n",
      "Surroundings3         170 non-null object\n",
      "UseR                  170 non-null int64\n",
      "FishingR              170 non-null int64\n",
      "AcessR                170 non-null int64\n",
      "RoadDistanceR         170 non-null int64\n",
      "BuildingR             170 non-null int64\n",
      "PollutionR            170 non-null int64\n",
      "ShoreR                170 non-null object\n",
      "Green frogs           170 non-null int64\n",
      "Brown frogs           170 non-null int64\n",
      "Common toad           170 non-null int64\n",
      "Fire-bellied toad     170 non-null int64\n",
      "Tree frog             170 non-null int64\n",
      "Common newt           170 non-null int64\n",
      "Great crested newt    170 non-null int64\n",
      "dtypes: int64(16), object(5)\n",
      "memory usage: 28.0+ KB\n",
      "\n",
      "\n",
      "========= Descriptive_features =========\n",
      "\n",
      "<class 'pandas.core.frame.DataFrame'>\n",
      "RangeIndex: 170 entries, 0 to 169\n",
      "Data columns (total 14 columns):\n",
      "SurfaceR         170 non-null int64\n",
      "NumberR          170 non-null int64\n",
      "TypeR            170 non-null object\n",
      "VegetationR      170 non-null int64\n",
      "Surroundings1    170 non-null object\n",
      "Surroundings2    170 non-null object\n",
      "Surroundings3    170 non-null object\n",
      "UseR             170 non-null int64\n",
      "FishingR         170 non-null int64\n",
      "AcessR           170 non-null int64\n",
      "RoadDistanceR    170 non-null int64\n",
      "BuildingR        170 non-null int64\n",
      "PollutionR       170 non-null int64\n",
      "ShoreR           170 non-null object\n",
      "dtypes: int64(9), object(5)\n",
      "memory usage: 18.7+ KB\n",
      "\n",
      "\n",
      "========= Target_features =========\n",
      "\n",
      "<class 'pandas.core.frame.DataFrame'>\n",
      "RangeIndex: 170 entries, 0 to 169\n",
      "Data columns (total 7 columns):\n",
      "Green frogs           170 non-null int64\n",
      "Brown frogs           170 non-null int64\n",
      "Common toad           170 non-null int64\n",
      "Fire-bellied toad     170 non-null int64\n",
      "Tree frog             170 non-null int64\n",
      "Common newt           170 non-null int64\n",
      "Great crested newt    170 non-null int64\n",
      "dtypes: int64(7)\n",
      "memory usage: 9.4 KB\n",
      "\n",
      "\n",
      "========= possible inputs =========\n",
      "\n",
      "Categorical inputs ['TypeR', 'VegetationR', 'Surroundings1', 'Surroundings2', 'Surroundings3', 'UseR', 'FishingR', 'PollutionR', 'ShoreR', 'AcessR'] Number of possible values: [8, 5, 7, 7, 7, 3, 5, 3, 2, 6]\n",
      "Number of possible input patterns for the categorical data: 7408800\n"
     ]
    }
   ],
   "source": [
    "# Your code\n",
    "# finished\n",
    "import pandas as pd\n",
    "import numpy as np\n",
    "\n",
    "sampled_data = pd.read_csv('sampled_data.csv')\n",
    "\n",
    "# As ID does not play a role in prediction so I will drop it now\n",
    "sampled_data = sampled_data.drop(['ID'], axis = 1)\n",
    "\n",
    "# Printing the information about the data\n",
    "print(\"========= The information about the data =========\\n\")\n",
    "sampled_data.info()\n",
    "sampled_data.head()\n",
    "print(\"\\n\")\n",
    "\n",
    "#As given in the question, all frog types are target features, all the remaining columns are the descriptive features\n",
    "\n",
    "descriptive_features = ['SurfaceR', 'NumberR', 'TypeR', 'VegetationR', 'Surroundings1', 'Surroundings2', 'Surroundings3',\n",
    "                        'UseR', 'FishingR', 'AcessR', 'RoadDistanceR', 'BuildingR', 'PollutionR', 'ShoreR']\n",
    "target_features = ['Green frogs', 'Brown frogs', 'Common toad', 'Fire-bellied toad', 'Tree frog', 'Common newt',\n",
    "                   'Great crested newt']\n",
    "\n",
    "descriptive_features_data = sampled_data.drop(target_features, axis = 1)\n",
    "target_features_data = sampled_data.drop(descriptive_features, axis = 1)\n",
    "\n",
    "print(\"========= Descriptive_features =========\\n\")\n",
    "descriptive_features_data.info()\n",
    "print(\"\\n\")\n",
    "print(\"========= Target_features =========\\n\")\n",
    "target_features_data.info()\n",
    "print(\"\\n\")\n",
    "\n",
    "# Possible categorical inputs\n",
    "categorical_inputs = ['TypeR', 'VegetationR', 'Surroundings1', 'Surroundings2', 'Surroundings3', 'UseR', 'FishingR',\n",
    "                      'PollutionR', 'ShoreR', 'AcessR']\n",
    "\n",
    "# Number of possible values of the different categorical inputs\n",
    "print(\"========= possible inputs =========\\n\")\n",
    "possible_values_vector = [len(descriptive_features_data[input].unique()) for input in categorical_inputs]\n",
    "\n",
    "print(\"Categorical inputs {} Number of possible values: {}\".format(categorical_inputs, possible_values_vector))\n",
    "\n",
    "#Give the number of possible input patterns for the categorical data\n",
    "print(\"Number of possible input patterns for the categorical data: {}\".format(np.product(possible_values_vector, axis=0)))"
   ]
  },
  {
   "cell_type": "markdown",
   "metadata": {},
   "source": [
    "Explanation:\n",
    "\n",
    "There are 7 different frogs that will be output and 14 descriptive features which are all possible inputs. \n",
    "possible_input_example=[700,1,4,1,6,5,6,3,1,75,1,1,0,0] # a 14 dimensional vector.\n",
    "possible_output_example=[0,1,1,0,0,1,0] # a 7 dimensional vector.\n",
    "\n",
    "For categoricals inputs:\n",
    "1) Categorical inputs are ['TypeR', 'VegetationR', 'Surroundings1', 'Surroundings2', 'Surroundings3', 'UseR', 'FishingR', 'PollutionR', 'ShoreR', 'AcessR'] , their numbers of possible values are [8, 5, 7, 7, 7, 3, 5, 3, 2, 6].\n",
    "\n",
    "2) Number of possible input patterns for the categorical data: 7408800"
   ]
  },
  {
   "cell_type": "markdown",
   "metadata": {},
   "source": [
    "   (b) Choose one categorical feature and two non-categorical features as input features. Create a data set with those features and the target columns (different frogs). Name this data set *NN_data*."
   ]
  },
  {
   "cell_type": "code",
   "execution_count": 13,
   "metadata": {},
   "outputs": [
    {
     "name": "stdout",
     "output_type": "stream",
     "text": [
      "<class 'pandas.core.frame.DataFrame'>\n",
      "RangeIndex: 170 entries, 0 to 169\n",
      "Data columns (total 10 columns):\n",
      "RoadDistanceR         170 non-null int64\n",
      "SurfaceR              170 non-null int64\n",
      "UseR                  170 non-null int64\n",
      "Green frogs           170 non-null int64\n",
      "Brown frogs           170 non-null int64\n",
      "Common toad           170 non-null int64\n",
      "Fire-bellied toad     170 non-null int64\n",
      "Tree frog             170 non-null int64\n",
      "Common newt           170 non-null int64\n",
      "Great crested newt    170 non-null int64\n",
      "dtypes: int64(10)\n",
      "memory usage: 13.4 KB\n"
     ]
    },
    {
     "data": {
      "image/png": "[encoded data removed]",
      "text/plain": [
       "<Figure size 1152x1152 with 2 Axes>"
      ]
     },
     "metadata": {
      "needs_background": "light"
     },
     "output_type": "display_data"
    }
   ],
   "source": [
    "# the student should choose -> results differ\n",
    "import seaborn as sns\n",
    "import matplotlib.pyplot as plt\n",
    "# finished\n",
    "\n",
    "# To select 2 non-categorical and one categorical variable \n",
    "# we can plot the co-relation graph between features to avoid choosing redundant features\n",
    "# using descriptive features data from sampled_data\n",
    "# descriptive_features_data.info()\n",
    "\n",
    "# Convert non numeric categorical variables into numeric values using label encoding\n",
    "categorical_variables_converted = ['TypeR', 'Surroundings1', 'Surroundings2', 'Surroundings3', 'ShoreR']\n",
    "for feature in categorical_variables_converted:\n",
    "    descriptive_features_data[feature] = descriptive_features_data[feature].astype('category').cat.codes\n",
    "    \n",
    "# Calculate corelation matrix\n",
    "corelation_matrix = descriptive_features_data.corr()\n",
    "plt.figure(figsize=(16, 16))\n",
    "heatmap = sns.heatmap(corelation_matrix, vmin=-1, vmax=1, annot=True)\n",
    "\n",
    "# we are choosing 'RoadDistanceR', 'SurfaceR', 'UseR'\n",
    "NN_descriptive_features = ['RoadDistanceR', 'SurfaceR', 'UseR']\n",
    "NN_data = sampled_data[NN_descriptive_features + target_features]\n",
    "NN_data.to_csv('NN_data.csv', index=False)\n",
    "\n",
    "NN_data.info()"
   ]
  },
  {
   "cell_type": "markdown",
   "metadata": {},
   "source": [
    "Explanation:\n",
    "\n",
    "We wanted to find the co-relation between descriptive features so that we can avoid choosing redundant features, for that purpose we converted the categorical variables that were not numeric into numerics using label encoding and then printed the heatmap.\n",
    "\n",
    "The categorical variables are:\n",
    "['TypeR', 'VegetationR', 'Surroundings1', 'Surroundings2', 'Surroundings3', 'UseR', 'FishingR','PollutionR', 'ShoreR', 'AcessR']\n",
    "\n",
    "The numeric variables are:['SurfaceR', 'NumberR', 'RoadDistanceR', 'BuildingR']\n",
    "\n",
    "For non categorical features, as we can see from the map, there is a high corelation between \"RoadDistanceR\" and \"BuildingR\" which is .8 and between SurfaceR and NumberR which is .55. So we should not choose them both. We can use only one from those. Here we are choosing \"RoadDistanceR\" and \"SurfaceR\".\n",
    "\n",
    "For categorical features, \"UseR\" and \"FishingR\" have the highest corelation. We should not choose them both. Let's choose \"UseR\"."
   ]
  },
  {
   "cell_type": "markdown",
   "metadata": {},
   "source": [
    "   (c) Convert the features that need to be converted using One-Hot-Encoding. Explain why you need (not) to convert these features. Name the data set *NN_data_encoded*."
   ]
  },
  {
   "cell_type": "code",
   "execution_count": 14,
   "metadata": {},
   "outputs": [
    {
     "data": {
      "text/html": [
       "<div>\n",
       "<style scoped>\n",
       "    .dataframe tbody tr th:only-of-type {\n",
       "        vertical-align: middle;\n",
       "    }\n",
       "\n",
       "    .dataframe tbody tr th {\n",
       "        vertical-align: top;\n",
       "    }\n",
       "\n",
       "    .dataframe thead th {\n",
       "        text-align: right;\n",
       "    }\n",
       "</style>\n",
       "<table border=\"1\" class=\"dataframe\">\n",
       "  <thead>\n",
       "    <tr style=\"text-align: right;\">\n",
       "      <th></th>\n",
       "      <th>RoadDistanceR</th>\n",
       "      <th>SurfaceR</th>\n",
       "      <th>UseR</th>\n",
       "      <th>Green frogs</th>\n",
       "      <th>Brown frogs</th>\n",
       "      <th>Common toad</th>\n",
       "      <th>Fire-bellied toad</th>\n",
       "      <th>Tree frog</th>\n",
       "      <th>Common newt</th>\n",
       "      <th>Great crested newt</th>\n",
       "    </tr>\n",
       "  </thead>\n",
       "  <tbody>\n",
       "    <tr>\n",
       "      <th>0</th>\n",
       "      <td>1</td>\n",
       "      <td>700</td>\n",
       "      <td>3</td>\n",
       "      <td>0</td>\n",
       "      <td>1</td>\n",
       "      <td>1</td>\n",
       "      <td>0</td>\n",
       "      <td>0</td>\n",
       "      <td>1</td>\n",
       "      <td>0</td>\n",
       "    </tr>\n",
       "    <tr>\n",
       "      <th>1</th>\n",
       "      <td>1</td>\n",
       "      <td>200</td>\n",
       "      <td>3</td>\n",
       "      <td>0</td>\n",
       "      <td>1</td>\n",
       "      <td>1</td>\n",
       "      <td>0</td>\n",
       "      <td>0</td>\n",
       "      <td>1</td>\n",
       "      <td>0</td>\n",
       "    </tr>\n",
       "    <tr>\n",
       "      <th>2</th>\n",
       "      <td>0</td>\n",
       "      <td>300</td>\n",
       "      <td>3</td>\n",
       "      <td>0</td>\n",
       "      <td>0</td>\n",
       "      <td>1</td>\n",
       "      <td>0</td>\n",
       "      <td>0</td>\n",
       "      <td>0</td>\n",
       "      <td>0</td>\n",
       "    </tr>\n",
       "    <tr>\n",
       "      <th>3</th>\n",
       "      <td>0</td>\n",
       "      <td>600</td>\n",
       "      <td>0</td>\n",
       "      <td>0</td>\n",
       "      <td>1</td>\n",
       "      <td>1</td>\n",
       "      <td>1</td>\n",
       "      <td>0</td>\n",
       "      <td>1</td>\n",
       "      <td>1</td>\n",
       "    </tr>\n",
       "    <tr>\n",
       "      <th>4</th>\n",
       "      <td>0</td>\n",
       "      <td>200</td>\n",
       "      <td>1</td>\n",
       "      <td>0</td>\n",
       "      <td>0</td>\n",
       "      <td>0</td>\n",
       "      <td>0</td>\n",
       "      <td>0</td>\n",
       "      <td>0</td>\n",
       "      <td>0</td>\n",
       "    </tr>\n",
       "  </tbody>\n",
       "</table>\n",
       "</div>"
      ],
      "text/plain": [
       "   RoadDistanceR  SurfaceR  UseR  Green frogs  Brown frogs  Common toad  \\\n",
       "0              1       700     3            0            1            1   \n",
       "1              1       200     3            0            1            1   \n",
       "2              0       300     3            0            0            1   \n",
       "3              0       600     0            0            1            1   \n",
       "4              0       200     1            0            0            0   \n",
       "\n",
       "   Fire-bellied toad  Tree frog  Common newt  Great crested newt  \n",
       "0                  0          0            1                   0  \n",
       "1                  0          0            1                   0  \n",
       "2                  0          0            0                   0  \n",
       "3                  1          0            1                   1  \n",
       "4                  0          0            0                   0  "
      ]
     },
     "execution_count": 14,
     "metadata": {},
     "output_type": "execute_result"
    }
   ],
   "source": [
    "# Your code\n",
    "# finished\n",
    "# From 3 descriptive features 2 of the freatures are already in numeric form \n",
    "# and the categorial variable \"UseR\" is in ordinal form already \n",
    "# so we dont need to convert any feature using theOnehot encoding.\n",
    "NN_data_encoded = NN_data\n",
    "NN_data_encoded.to_csv('NN_data_encoded.csv', index=False)\n",
    "NN_data_encoded.head()"
   ]
  },
  {
   "cell_type": "markdown",
   "metadata": {},
   "source": [
    "Explanation:\n",
    "\n",
    "From 3 descriptive features 2 of the freatures are already in numeric form and the categorial variable \"UseR\" is in ordinal form already so we dont need to convert any feature using theOnehot encoding."
   ]
  },
  {
   "cell_type": "markdown",
   "metadata": {},
   "source": [
    "   (d) Create a training and test set with 90% of the rows of your *NN_data_encoded* data set for training and 10% as test data set. Name them *train_NN* and *test_NN*"
   ]
  },
  {
   "cell_type": "code",
   "execution_count": 15,
   "metadata": {},
   "outputs": [
    {
     "name": "stdout",
     "output_type": "stream",
     "text": [
      "train_NN size:  153\n",
      "test_NN size:  17\n"
     ]
    }
   ],
   "source": [
    "# Your code\n",
    "# finished\n",
    "from sklearn.model_selection import train_test_split\n",
    "# Slpitting the dataset into\n",
    "train_NN, test_NN = train_test_split(NN_data_encoded, test_size=0.1)\n",
    "\n",
    "# Splitting the test and train datasets in to X and Y.\n",
    "train_NN_X = train_NN[NN_descriptive_features]\n",
    "train_NN_Y = train_NN[target_features]\n",
    "\n",
    "test_NN_X = test_NN[NN_descriptive_features]\n",
    "test_NN_Y = test_NN[target_features]\n",
    "\n",
    "print('train_NN size: ', len(train_NN_X))\n",
    "print('test_NN size: ', len(test_NN_X))"
   ]
  },
  {
   "cell_type": "markdown",
   "metadata": {},
   "source": [
    "Explanation:\n",
    "\n",
    "Firstly we created a split of 90/10 percent for train and test data respectively. After that we further splitted each data into descriptive and target part."
   ]
  },
  {
   "cell_type": "markdown",
   "metadata": {},
   "source": [
    "   (e) Train two different Neural Networks, one with a linear activation function and one with a non-linear activation function. All other settings stay default. Give the accuracy of each Neural Network for the training and test set (*train_NN* and *test_NN*. Which activation function seems to be better?"
   ]
  },
  {
   "cell_type": "code",
   "execution_count": 61,
   "metadata": {},
   "outputs": [
    {
     "name": "stdout",
     "output_type": "stream",
     "text": [
      "Try 5 times:\n",
      "\n",
      "The Accuracy score for Linear Activation function : 0.0\n",
      "The Accuracy score for Linear Activation function : 0.0\n",
      "The Accuracy score for Linear Activation function : 0.0\n",
      "The Accuracy score for Linear Activation function : 0.0\n",
      "The Accuracy score for Linear Activation function : 0.058823529411764705\n",
      "\n",
      "Try each frog type:\n",
      "\n",
      "Accuracy of green frogs:  0.5882352941176471\n",
      "Accuracy of brown frogs:  0.8823529411764706\n",
      "Accuracy of common toad:  0.8235294117647058\n",
      "Accuracy of fire-bellied toad:  0.8235294117647058\n",
      "Accuracy of tree frog:  0.4117647058823529\n",
      "Accuracy of common newt:  0.29411764705882354\n",
      "Accuracy of great crested newt:  0.11764705882352941\n",
      "Average Accuracy:  0.5630252100840336\n"
     ]
    }
   ],
   "source": [
    "# (linear activation function):\n",
    "# finished\n",
    "import warnings\n",
    "warnings.filterwarnings(\"ignore\")\n",
    "from sklearn.neural_network import MLPClassifier\n",
    "from sklearn.metrics import accuracy_score\n",
    "from numpy import mean\n",
    "\n",
    "linear_classifier = MLPClassifier(activation='identity')\n",
    "\n",
    "print(\"Try 5 times:\\n\")\n",
    "\n",
    "linear_classifier.fit(train_NN_X, train_NN_Y)\n",
    "prediction = linear_classifier.predict(test_NN_X)\n",
    "accuracy_scr = accuracy_score(test_NN_Y, prediction)\n",
    "print(\"The Accuracy score for Linear Activation function : {}\".format(accuracy_scr))\n",
    "\n",
    "linear_classifier.fit(train_NN_X, train_NN_Y)\n",
    "prediction = linear_classifier.predict(test_NN_X)\n",
    "accuracy_scr = accuracy_score(test_NN_Y, prediction)\n",
    "print(\"The Accuracy score for Linear Activation function : {}\".format(accuracy_scr))\n",
    "\n",
    "linear_classifier.fit(train_NN_X, train_NN_Y)\n",
    "prediction = linear_classifier.predict(test_NN_X)\n",
    "accuracy_scr = accuracy_score(test_NN_Y, prediction)\n",
    "print(\"The Accuracy score for Linear Activation function : {}\".format(accuracy_scr))\n",
    "\n",
    "linear_classifier.fit(train_NN_X, train_NN_Y)\n",
    "prediction = linear_classifier.predict(test_NN_X)\n",
    "accuracy_scr = accuracy_score(test_NN_Y, prediction)\n",
    "print(\"The Accuracy score for Linear Activation function : {}\".format(accuracy_scr))\n",
    "\n",
    "linear_classifier.fit(train_NN_X, train_NN_Y)\n",
    "prediction = linear_classifier.predict(test_NN_X)\n",
    "accuracy_scr = accuracy_score(test_NN_Y, prediction)\n",
    "print(\"The Accuracy score for Linear Activation function : {}\".format(accuracy_scr))\n",
    "\n",
    "print(\"\\nTry each frog type:\\n\")\n",
    "\n",
    "linear_classifier1 = MLPClassifier(activation='identity')\n",
    "\n",
    "linear_classifier1.fit(train_NN_X, train_NN[target_features[0]])\n",
    "linear_classifier1.predict(test_NN_X)\n",
    "accuracy0 = linear_classifier1.score(test_NN_X, test_NN[target_features[0]])\n",
    "print(\"Accuracy of green frogs: \", accuracy0)\n",
    "\n",
    "linear_classifier1.fit(train_NN_X, train_NN[target_features[1]])\n",
    "linear_classifier1.predict(test_NN_X)\n",
    "accuracy1 = linear_classifier1.score(test_NN_X, test_NN[target_features[1]])\n",
    "print(\"Accuracy of brown frogs: \", accuracy1)\n",
    "\n",
    "linear_classifier1.fit(train_NN_X, train_NN[target_features[2]])\n",
    "linear_classifier1.predict(test_NN_X)\n",
    "accuracy2 = linear_classifier1.score(test_NN_X, test_NN[target_features[2]])\n",
    "print(\"Accuracy of common toad: \", accuracy2)\n",
    "\n",
    "linear_classifier1.fit(train_NN_X, train_NN[target_features[3]])\n",
    "linear_classifier1.predict(test_NN_X)\n",
    "accuracy3 = linear_classifier1.score(test_NN_X, test_NN[target_features[3]])\n",
    "print(\"Accuracy of fire-bellied toad: \", accuracy3)\n",
    "\n",
    "linear_classifier1.fit(train_NN_X, train_NN[target_features[4]])\n",
    "linear_classifier1.predict(test_NN_X)\n",
    "accuracy4 = linear_classifier1.score(test_NN_X, test_NN[target_features[4]])\n",
    "print(\"Accuracy of tree frog: \", accuracy4)\n",
    "\n",
    "linear_classifier1.fit(train_NN_X, train_NN[target_features[5]])\n",
    "linear_classifier1.predict(test_NN_X)\n",
    "accuracy5 = linear_classifier1.score(test_NN_X, test_NN[target_features[5]])\n",
    "print(\"Accuracy of common newt: \", accuracy5)\n",
    "\n",
    "linear_classifier1.fit(train_NN_X, train_NN[target_features[6]])\n",
    "linear_classifier1.predict(test_NN_X)\n",
    "accuracy6 = linear_classifier1.score(test_NN_X, test_NN[target_features[6]])\n",
    "print(\"Accuracy of great crested newt: \", accuracy6)\n",
    "\n",
    "print(\"Average Accuracy: \", mean([accuracy1,accuracy2,accuracy3,accuracy4,accuracy5,accuracy6,accuracy0]))"
   ]
  },
  {
   "cell_type": "code",
   "execution_count": 62,
   "metadata": {},
   "outputs": [
    {
     "name": "stdout",
     "output_type": "stream",
     "text": [
      "Try 5 times:\n",
      "\n",
      "The Accuracy score for Non Linear Activation function :0.058823529411764705\n",
      "The Accuracy score for Non Linear Activation function :0.11764705882352941\n",
      "The Accuracy score for Non Linear Activation function :0.058823529411764705\n",
      "The Accuracy score for Non Linear Activation function :0.058823529411764705\n",
      "The Accuracy score for Non Linear Activation function :0.058823529411764705\n",
      "\n",
      "Try each frog type:\n",
      "\n",
      "Accuracy of green frogs:  0.47058823529411764\n",
      "Accuracy of brown frogs:  0.8823529411764706\n",
      "Accuracy of common toad:  0.8235294117647058\n",
      "Accuracy of fire-bellied toad:  0.8235294117647058\n",
      "Accuracy of tree frog:  0.5882352941176471\n",
      "Accuracy of common newt:  0.7058823529411765\n",
      "Accuracy of great crested newt:  0.8823529411764706\n",
      "Average Accuracy:  0.7394957983193278\n"
     ]
    }
   ],
   "source": [
    "# (non-linear activation function):\n",
    "# finished\n",
    "import warnings\n",
    "warnings.filterwarnings(\"ignore\")\n",
    "from sklearn.neural_network import MLPClassifier\n",
    "\n",
    "# Multi-layer Perceptron\n",
    "# Class MLPClassifier implements a multi-layer perceptron (MLP) algorithm that trains using Backpropagation.\n",
    "non_linear_classifier = MLPClassifier(activation=\"logistic\") # the logistic sigmoid function, returns f(x) = 1 / (1 + exp(-x)).\n",
    "\n",
    "print(\"Try 5 times:\\n\")\n",
    "\n",
    "non_linear_classifier.fit(train_NN_X, train_NN_Y)\n",
    "prediction = non_linear_classifier.predict(test_NN_X)\n",
    "accuracy_scr = accuracy_score(test_NN_Y, prediction)\n",
    "print(\"The Accuracy score for Non Linear Activation function :{}\".format(accuracy_scr))\n",
    "\n",
    "non_linear_classifier.fit(train_NN_X, train_NN_Y)\n",
    "prediction = non_linear_classifier.predict(test_NN_X)\n",
    "accuracy_scr = accuracy_score(test_NN_Y, prediction)\n",
    "print(\"The Accuracy score for Non Linear Activation function :{}\".format(accuracy_scr))\n",
    "\n",
    "non_linear_classifier.fit(train_NN_X, train_NN_Y)\n",
    "prediction = non_linear_classifier.predict(test_NN_X)\n",
    "accuracy_scr = accuracy_score(test_NN_Y, prediction)\n",
    "print(\"The Accuracy score for Non Linear Activation function :{}\".format(accuracy_scr))\n",
    "\n",
    "non_linear_classifier.fit(train_NN_X, train_NN_Y)\n",
    "prediction = non_linear_classifier.predict(test_NN_X)\n",
    "accuracy_scr = accuracy_score(test_NN_Y, prediction)\n",
    "print(\"The Accuracy score for Non Linear Activation function :{}\".format(accuracy_scr))\n",
    "\n",
    "non_linear_classifier.fit(train_NN_X, train_NN_Y)\n",
    "prediction = non_linear_classifier.predict(test_NN_X)\n",
    "accuracy_scr = accuracy_score(test_NN_Y, prediction)\n",
    "print(\"The Accuracy score for Non Linear Activation function :{}\".format(accuracy_scr))\n",
    "\n",
    "print(\"\\nTry each frog type:\\n\")\n",
    "\n",
    "non_linear_classifier1 = MLPClassifier(activation=\"logistic\")\n",
    "\n",
    "non_linear_classifier1.fit(train_NN_X, train_NN[target_features[0]])\n",
    "non_linear_classifier1.predict(test_NN_X)\n",
    "accuracy0 = non_linear_classifier1.score(test_NN_X, test_NN[target_features[0]])\n",
    "print(\"Accuracy of green frogs: \", accuracy0)\n",
    "\n",
    "non_linear_classifier1.fit(train_NN_X, train_NN[target_features[1]])\n",
    "non_linear_classifier1.predict(test_NN_X)\n",
    "accuracy1 = non_linear_classifier1.score(test_NN_X, test_NN[target_features[1]])\n",
    "print(\"Accuracy of brown frogs: \", accuracy1)\n",
    "\n",
    "non_linear_classifier1.fit(train_NN_X, train_NN[target_features[2]])\n",
    "non_linear_classifier1.predict(test_NN_X)\n",
    "accuracy2 = non_linear_classifier1.score(test_NN_X, test_NN[target_features[2]])\n",
    "print(\"Accuracy of common toad: \", accuracy2)\n",
    "\n",
    "non_linear_classifier1.fit(train_NN_X, train_NN[target_features[3]])\n",
    "non_linear_classifier1.predict(test_NN_X)\n",
    "accuracy3 = non_linear_classifier1.score(test_NN_X, test_NN[target_features[3]])\n",
    "print(\"Accuracy of fire-bellied toad: \", accuracy3)\n",
    "\n",
    "non_linear_classifier1.fit(train_NN_X, train_NN[target_features[4]])\n",
    "non_linear_classifier1.predict(test_NN_X)\n",
    "accuracy4 = non_linear_classifier1.score(test_NN_X, test_NN[target_features[4]])\n",
    "print(\"Accuracy of tree frog: \", accuracy4)\n",
    "\n",
    "non_linear_classifier1.fit(train_NN_X, train_NN[target_features[5]])\n",
    "non_linear_classifier1.predict(test_NN_X)\n",
    "accuracy5 = non_linear_classifier1.score(test_NN_X, test_NN[target_features[5]])\n",
    "print(\"Accuracy of common newt: \", accuracy5)\n",
    "\n",
    "non_linear_classifier1.fit(train_NN_X, train_NN[target_features[6]])\n",
    "non_linear_classifier1.predict(test_NN_X)\n",
    "accuracy6 = non_linear_classifier1.score(test_NN_X, test_NN[target_features[6]])\n",
    "print(\"Accuracy of great crested newt: \", accuracy6)\n",
    "\n",
    "print(\"Average Accuracy: \", mean([accuracy1,accuracy2,accuracy3,accuracy4,accuracy5,accuracy6,accuracy0]))"
   ]
  },
  {
   "cell_type": "markdown",
   "metadata": {},
   "source": [
    "Explanation:\n",
    "We used these two activation functions: \n",
    "(1)‘identity’, no-op activation, useful to implement linear bottleneck, returns f(x) = x. \n",
    "(2)‘logistic’, the logistic sigmoid function, returns f(x) = 1 / (1 + exp(-x)).\n",
    "Based on the average accuracy, we can say the non-linear activation function (logistic sigmoid function) acts better than the linear activation function (identity)."
   ]
  },
  {
   "cell_type": "markdown",
   "metadata": {},
   "source": [
    "   (f) Based on your result of (e) train 2 more Neural Networks with different settings (change at least 4 parameters (2 each)). Explain your parameters and the choice of the activation function. Evaluate the different Neural Networks with your test set by giving the accuracy. Try to increase the accuracy and analyse the factors that prohibit better accuracy."
   ]
  },
  {
   "cell_type": "code",
   "execution_count": 77,
   "metadata": {
    "scrolled": true
   },
   "outputs": [
    {
     "name": "stdout",
     "output_type": "stream",
     "text": [
      "The Accuracy score for Model 1 first time: 0.058823529411764705\n",
      "The Accuracy score for Model 1 second time: 0.058823529411764705\n",
      "The Accuracy score for Model 2 first time: 0.11764705882352941\n",
      "The Accuracy score for Model 2 second time: 0.11764705882352941\n",
      "\n",
      "Try tree frog as an example:\n",
      "\n",
      "The Accuracy score for Model 1 :0.5294117647058824\n",
      "The Accuracy score for Model 2 :0.5882352941176471\n"
     ]
    }
   ],
   "source": [
    "# code for 2 more NN\n",
    "# finished\n",
    "import warnings\n",
    "warnings.filterwarnings(\"ignore\")\n",
    "from sklearn.neural_network import MLPClassifier\n",
    "\n",
    "# Multi-layer Perceptron\n",
    "# Class MLPClassifier implements a multi-layer perceptron (MLP) algorithm that trains using Backpropagation.\n",
    "# activation: the logistic sigmoid function, returns f(x) = 1 / (1 + exp(-x)).\n",
    "# 'lbfgs' is an optimizer in the family of quasi-Newton methods\n",
    "# the logistic sigmoid function, returns f(x) = 1 / (1 + exp(-x)).\n",
    "model_1 = MLPClassifier(activation='logistic', hidden_layer_sizes=(150, 80), solver='lbfgs')  \n",
    "model_1.fit(train_NN_X, train_NN_Y)\n",
    "prediction_1 = model_1.predict(test_NN_X)\n",
    "accuracy_scr_1 = accuracy_score(test_NN_Y, prediction_1)\n",
    "print(\"The Accuracy score for Model 1 first time: {}\".format(accuracy_scr_1))  \n",
    "model_1.fit(train_NN_X, train_NN_Y)\n",
    "prediction_1 = model_1.predict(test_NN_X)\n",
    "accuracy_scr_1 = accuracy_score(test_NN_Y, prediction_1)\n",
    "print(\"The Accuracy score for Model 1 second time: {}\".format(accuracy_scr_1))\n",
    "\n",
    "# hidden_layer_sizes represents the number of neurons in the hidden layers\n",
    "model_2 = MLPClassifier(activation='logistic', hidden_layer_sizes=(200, 150, 100, 50), solver='sgd', learning_rate='adaptive', max_iter=500, tol=1e-5)  \n",
    "model_2.fit(train_NN_X, train_NN_Y)\n",
    "prediction_2 = model_2.predict(test_NN_X)\n",
    "accuracy_scr_2 = accuracy_score(test_NN_Y, prediction_2)\n",
    "print(\"The Accuracy score for Model 2 first time: {}\".format(accuracy_scr_2)) \n",
    "model_2.fit(train_NN_X, train_NN_Y)\n",
    "prediction_2 = model_2.predict(test_NN_X)\n",
    "accuracy_scr_2 = accuracy_score(test_NN_Y, prediction_2)\n",
    "print(\"The Accuracy score for Model 2 second time: {}\".format(accuracy_scr_2))\n",
    "\n",
    "print(\"\\nTry tree frog as an example:\\n\")\n",
    "\n",
    "model_3 = MLPClassifier(activation='logistic', hidden_layer_sizes=(150, 80), solver='lbfgs')\n",
    "model_3.fit(train_NN_X, train_NN[target_features[4]])\n",
    "prediction_3 = model_3.predict(test_NN_X)\n",
    "accuracy_scr_3 = model_3.score(test_NN_X, test_NN[target_features[4]])\n",
    "print(\"The Accuracy score for Model 1 :{}\".format(accuracy_scr_3))\n",
    "\n",
    "model_4 = MLPClassifier(activation='logistic', hidden_layer_sizes=(200, 150, 100, 50), solver='sgd', learning_rate='adaptive', max_iter=500, tol=1e-5) \n",
    "model_4.fit(train_NN_X, train_NN[target_features[4]])\n",
    "prediction_4 = model_4.predict(test_NN_X)\n",
    "accuracy_scr_4 = model_4.score(test_NN_X, test_NN[target_features[4]])\n",
    "print(\"The Accuracy score for Model 2 :{}\".format(accuracy_scr_4))"
   ]
  },
  {
   "cell_type": "markdown",
   "metadata": {},
   "source": [
    "Explanation:\n",
    "\n",
    "Here we are keeping the better activation function which is logistic sigmoid function. \n",
    "Then we try to improve the result by first setting more neurons (for example in the first layer, from 100 neurons to 150 neurons), and setting solver to 'lbgs' and since the data set is not very big, we switch the solver for weight optimization from 'adam' to 'lbfgs', 'lbfgs' should converge faster and perform better. We got almost the same result.\n",
    "\n",
    "Then for the second model, we first keep adding more neurons for different layers (more neurons/weights should be more accurate if it doesn't cause overfitting), and then we want to change the learning rate and maximum number of iterations so we change the solver for weight optimization to 'sgd'. We change the learning rate to adaptive so that it keeps the learning rate constant as long as training loss keeps decreasing, increased the maximum number of iterations, and decreased the tolerance for the optimization so the result might be more accurate. The accuracy gets slightly better in the end.\n",
    "\n",
    "The result is acceptable as our dataset is very small we are trying to fit multiclassification problem with only 3 descriptive features so that's why the accuracy is low for our models. If we develop neural network for each type of frog, the result can be better."
   ]
  },
  {
   "cell_type": "markdown",
   "metadata": {},
   "source": [
    "## Question 6 - Evaluation (10 Points)"
   ]
  },
  {
   "cell_type": "markdown",
   "metadata": {},
   "source": [
    "   (a) Consider two models of question 5 of your choice with the respective datasets (training and test data)."
   ]
  },
  {
   "cell_type": "markdown",
   "metadata": {},
   "source": [
    "- Create training and test data for 3-fold cross validation."
   ]
  },
  {
   "cell_type": "code",
   "execution_count": 78,
   "metadata": {},
   "outputs": [
    {
     "name": "stdout",
     "output_type": "stream",
     "text": [
      "Data head: \n",
      "    RoadDistanceR  SurfaceR  UseR  Green frogs  Brown frogs  Common toad  \\\n",
      "0              1       700     3            0            1            1   \n",
      "1              1       200     3            0            1            1   \n",
      "2              0       300     3            0            0            1   \n",
      "3              0       600     0            0            1            1   \n",
      "4              0       200     1            0            0            0   \n",
      "\n",
      "   Fire-bellied toad  Tree frog  Common newt  Great crested newt  \n",
      "0                  0          0            1                   0  \n",
      "1                  0          0            1                   0  \n",
      "2                  0          0            0                   0  \n",
      "3                  1          0            1                   1  \n",
      "4                  0          0            0                   0  \n",
      "\n",
      "\n",
      "TRAIN index: [ 57  58  59  60  61  62  63  64  65  66  67  68  69  70  71  72  73  74\n",
      "  75  76  77  78  79  80  81  82  83  84  85  86  87  88  89  90  91  92\n",
      "  93  94  95  96  97  98  99 100 101 102 103 104 105 106 107 108 109 110\n",
      " 111 112 113 114 115 116 117 118 119 120 121 122 123 124 125 126 127 128\n",
      " 129 130 131 132 133 134 135 136 137 138 139 140 141 142 143 144 145 146\n",
      " 147 148 149 150 151 152 153 154 155 156 157 158 159 160 161 162 163 164\n",
      " 165 166 167 168 169] \n",
      "TEST index: [ 0  1  2  3  4  5  6  7  8  9 10 11 12 13 14 15 16 17 18 19 20 21 22 23\n",
      " 24 25 26 27 28 29 30 31 32 33 34 35 36 37 38 39 40 41 42 43 44 45 46 47\n",
      " 48 49 50 51 52 53 54 55 56]\n",
      "TRAIN index: [  0   1   2   3   4   5   6   7   8   9  10  11  12  13  14  15  16  17\n",
      "  18  19  20  21  22  23  24  25  26  27  28  29  30  31  32  33  34  35\n",
      "  36  37  38  39  40  41  42  43  44  45  46  47  48  49  50  51  52  53\n",
      "  54  55  56 114 115 116 117 118 119 120 121 122 123 124 125 126 127 128\n",
      " 129 130 131 132 133 134 135 136 137 138 139 140 141 142 143 144 145 146\n",
      " 147 148 149 150 151 152 153 154 155 156 157 158 159 160 161 162 163 164\n",
      " 165 166 167 168 169] \n",
      "TEST index: [ 57  58  59  60  61  62  63  64  65  66  67  68  69  70  71  72  73  74\n",
      "  75  76  77  78  79  80  81  82  83  84  85  86  87  88  89  90  91  92\n",
      "  93  94  95  96  97  98  99 100 101 102 103 104 105 106 107 108 109 110\n",
      " 111 112 113]\n",
      "TRAIN index: [  0   1   2   3   4   5   6   7   8   9  10  11  12  13  14  15  16  17\n",
      "  18  19  20  21  22  23  24  25  26  27  28  29  30  31  32  33  34  35\n",
      "  36  37  38  39  40  41  42  43  44  45  46  47  48  49  50  51  52  53\n",
      "  54  55  56  57  58  59  60  61  62  63  64  65  66  67  68  69  70  71\n",
      "  72  73  74  75  76  77  78  79  80  81  82  83  84  85  86  87  88  89\n",
      "  90  91  92  93  94  95  96  97  98  99 100 101 102 103 104 105 106 107\n",
      " 108 109 110 111 112 113] \n",
      "TEST index: [114 115 116 117 118 119 120 121 122 123 124 125 126 127 128 129 130 131\n",
      " 132 133 134 135 136 137 138 139 140 141 142 143 144 145 146 147 148 149\n",
      " 150 151 152 153 154 155 156 157 158 159 160 161 162 163 164 165 166 167\n",
      " 168 169]\n",
      "\n",
      "====== Details about the sets: ======\n",
      "\n",
      "\n",
      "Take First Fold as an example:\n",
      "\n",
      "\n",
      "X_train:\n",
      "     RoadDistanceR  SurfaceR  UseR\n",
      "57              1       100     0\n",
      "58              0      3500     0\n",
      "59              5       300     0\n",
      "60              5       100     0\n",
      "61              0       200     0\n",
      "\n",
      "Y_train:\n",
      "     Green frogs  Brown frogs  Common toad  Fire-bellied toad  Tree frog  \\\n",
      "57            1            0            1                  0          0   \n",
      "58            1            1            1                  0          0   \n",
      "59            1            1            0                  0          0   \n",
      "60            0            1            0                  0          0   \n",
      "61            0            1            0                  0          0   \n",
      "\n",
      "    Common newt  Great crested newt  \n",
      "57            0                   0  \n",
      "58            0                   0  \n",
      "59            0                   0  \n",
      "60            0                   0  \n",
      "61            0                   0  \n",
      "\n",
      "X_test:\n",
      "    RoadDistanceR  SurfaceR  UseR\n",
      "0              1       700     3\n",
      "1              1       200     3\n",
      "2              0       300     3\n",
      "3              0       600     0\n",
      "4              0       200     1\n",
      "\n",
      "Y_test:\n",
      "    Green frogs  Brown frogs  Common toad  Fire-bellied toad  Tree frog  \\\n",
      "0            0            1            1                  0          0   \n",
      "1            0            1            1                  0          0   \n",
      "2            0            0            1                  0          0   \n",
      "3            0            1            1                  1          0   \n",
      "4            0            0            0                  0          0   \n",
      "\n",
      "   Common newt  Great crested newt  \n",
      "0            1                   0  \n",
      "1            1                   0  \n",
      "2            0                   0  \n",
      "3            1                   1  \n",
      "4            0                   0  \n"
     ]
    }
   ],
   "source": [
    "# Your code\n",
    "import pandas as pd\n",
    "from sklearn.model_selection import KFold\n",
    "\n",
    "# Your code\n",
    "# finished\n",
    "\n",
    "# Using the NN encoded dataset\n",
    "NN_data = NN_data_encoded\n",
    "print(\"Data head: \\n\", NN_data.head())\n",
    "print(\"\\n\")\n",
    "\n",
    "NN_data_X = NN_data[NN_descriptive_features]\n",
    "NN_data_y = NN_data[target_features]\n",
    "\n",
    "kf = KFold(n_splits=3)\n",
    "\n",
    "X_train = []\n",
    "y_train = []\n",
    "X_test = []\n",
    "y_test = []\n",
    "\n",
    "# Splitting and Storing the 3 fold data set.\n",
    "for train_index, test_index in kf.split(NN_data):\n",
    "    print(\"TRAIN index:\", train_index, \"\\nTEST index:\", test_index) \n",
    "    X_train.append(NN_data_X[NN_data_X.index.isin(train_index)]), X_test.append(NN_data_X[NN_data_X.index.isin(test_index)])  \n",
    "    y_train.append(NN_data_y[NN_data_y.index.isin(train_index)]), y_test.append(NN_data_y[NN_data_y.index.isin(test_index)]) \n",
    "\n",
    "print(\"\\n====== Details about the sets: ======\\n\")\n",
    "print(\"\\nTake First Fold as an example:\\n\")\n",
    "print(\"\\nX_train:\\n\", X_train[0][:5])\n",
    "print(\"\\nY_train:\\n\", y_train[0][:5])\n",
    "print(\"\\nX_test:\\n\", X_test[0][:5])\n",
    "print(\"\\nY_test:\\n\", y_test[0][:5])"
   ]
  },
  {
   "cell_type": "code",
   "execution_count": 79,
   "metadata": {},
   "outputs": [],
   "source": [
    "import warnings\n",
    "import numpy as np\n",
    "from sklearn.metrics import multilabel_confusion_matrix, accuracy_score, precision_recall_fscore_support\n",
    "warnings.filterwarnings(\"ignore\")\n",
    "# We are using 2 models from 5(e)\n",
    "\n",
    "Lc_Model_NN = linear_classifier\n",
    "Nlc_Model_NN = non_linear_classifier\n",
    "\n",
    "#3 fold dataset\n",
    "#X_train\n",
    "#y_train\n",
    "#X_test\n",
    "#y_test\n",
    "\n",
    "# Model 1 variables\n",
    "Lc_Model_NN_con_matrix_train = []\n",
    "Lc_Model_NN_con_matrix_test = []\n",
    "Lc_Model_NN_acc_train = []\n",
    "Lc_Model_NN_acc_test = []\n",
    "Lc_Model_NN_perf_test = []\n",
    "Cell_sum_train_1 =  np.zeros((7, 2, 2))\n",
    "Cell_sum_test_1 = np.zeros((7, 2, 2))\n",
    "\n",
    "# Model 2 variables\n",
    "Nlc_Model_NN_con_matrix_train = []\n",
    "Nlc_Model_NN_con_matrix_test = []\n",
    "Nlc_Model_NN_acc_train = []\n",
    "Nlc_Model_NN_acc_test = []\n",
    "Nlc_Model_NN_perf_test = []\n",
    "Cell_sum_train_2 =  np.zeros((7, 2, 2))\n",
    "Cell_sum_test_2 = np.zeros((7, 2, 2))\n",
    "\n",
    "# Training models\n",
    "for index in range(len(X_train)):\n",
    "    # Model 1 training, Calculating  confusion matrix, sum confusion matrix, accuracy\n",
    "    train_prediction_1 = Lc_Model_NN.predict(X_train[index])\n",
    "   \n",
    "    Lc_Model_NN_con_matrix_train.append(multilabel_confusion_matrix(y_train[index], train_prediction_1))\n",
    "    Cell_sum_train_1 = Cell_sum_train_1 + Lc_Model_NN_con_matrix_train[index]\n",
    "    Lc_Model_NN_acc_train.append(accuracy_score(y_train[index], train_prediction_1))\n",
    "\n",
    "    test_prediction_1 = Lc_Model_NN.predict(X_test[index])\n",
    "    Lc_Model_NN_con_matrix_test.append(multilabel_confusion_matrix(y_test[index], test_prediction_1))\n",
    "    Cell_sum_test_1 = Cell_sum_test_1 + Lc_Model_NN_con_matrix_test[index]\n",
    "    \n",
    "    Lc_Model_NN_acc_test.append(accuracy_score(y_test[index], test_prediction_1))\n",
    "    \n",
    "    # Calculating  precision, recall, f score for the test data of model 1\n",
    "    Lc_Model_NN_perf_test.append(precision_recall_fscore_support(y_test[index], test_prediction_1, average='micro'))\n",
    "    \n",
    "    # Model 2 training\n",
    "    train_prediction_2 = Nlc_Model_NN.predict(X_train[index])\n",
    "   \n",
    "    Nlc_Model_NN_con_matrix_train.append(multilabel_confusion_matrix(y_train[index], train_prediction_2))\n",
    "    Cell_sum_train_2 = Cell_sum_train_2 + Nlc_Model_NN_con_matrix_train[index]\n",
    "    Nlc_Model_NN_acc_train.append(accuracy_score(y_train[index], train_prediction_2))\n",
    "\n",
    "    test_prediction_2 = Nlc_Model_NN.predict(X_test[index])\n",
    "    Nlc_Model_NN_con_matrix_test.append(multilabel_confusion_matrix(y_test[index], test_prediction_2))\n",
    "    Cell_sum_test_2 = Cell_sum_test_2 + Nlc_Model_NN_con_matrix_test[index]\n",
    "    \n",
    "    Nlc_Model_NN_acc_test.append(accuracy_score(y_test[index], test_prediction_2))\n",
    "    \n",
    "    # Calculating  precision, recall, f score for the test data of model 1\n",
    "    Nlc_Model_NN_perf_test.append(precision_recall_fscore_support(y_test[index], test_prediction_2, average='micro'))"
   ]
  },
  {
   "cell_type": "markdown",
   "metadata": {},
   "source": [
    "- Print confusion matrices on the training data and the cell-by-cell summation of the results."
   ]
  },
  {
   "cell_type": "code",
   "execution_count": 80,
   "metadata": {},
   "outputs": [],
   "source": [
    "def Print_Confusion_matrix_per_fold(matrix_array, folds, datatype):\n",
    "    for index in range(folds):\n",
    "        print(\"Confusion matrix for {} for fold {}: \\n{} \".format(datatype, index+1, matrix_array[index]))"
   ]
  },
  {
   "cell_type": "code",
   "execution_count": 87,
   "metadata": {},
   "outputs": [
    {
     "name": "stdout",
     "output_type": "stream",
     "text": [
      "#################### MODEL 1 ######################\n",
      "\n",
      "Confusion matrix for Train data for fold 1: \n",
      "[[[ 0 41]\n",
      "  [ 0 72]]\n",
      "\n",
      " [[ 0 16]\n",
      "  [ 3 94]]\n",
      "\n",
      " [[14 23]\n",
      "  [14 62]]\n",
      "\n",
      " [[ 0 76]\n",
      "  [ 0 37]]\n",
      "\n",
      " [[ 0 65]\n",
      "  [ 0 48]]\n",
      "\n",
      " [[ 0 72]\n",
      "  [ 0 41]]\n",
      "\n",
      " [[77 22]\n",
      "  [14  0]]] \n",
      "Confusion matrix for Train data for fold 2: \n",
      "[[[ 0 48]\n",
      "  [ 0 65]]\n",
      "\n",
      " [[ 1 24]\n",
      "  [ 2 86]]\n",
      "\n",
      " [[12 27]\n",
      "  [13 61]]\n",
      "\n",
      " [[ 0 81]\n",
      "  [ 0 32]]\n",
      "\n",
      " [[ 0 75]\n",
      "  [ 0 38]]\n",
      "\n",
      " [[ 0 82]\n",
      "  [ 1 30]]\n",
      "\n",
      " [[87 18]\n",
      "  [ 8  0]]] \n",
      "Confusion matrix for Train data for fold 3: \n",
      "[[[ 0 51]\n",
      "  [ 0 63]]\n",
      "\n",
      " [[ 1 28]\n",
      "  [ 3 82]]\n",
      "\n",
      " [[14 22]\n",
      "  [17 61]]\n",
      "\n",
      " [[ 0 83]\n",
      "  [ 0 31]]\n",
      "\n",
      " [[ 0 74]\n",
      "  [ 0 40]]\n",
      "\n",
      " [[ 0 80]\n",
      "  [ 1 33]]\n",
      "\n",
      " [[74 24]\n",
      "  [16  0]]] \n",
      "\n",
      "##########################################\n",
      "\n",
      "\n",
      "Printing Cell by Cell Summation Confusion matrix for Train data \n",
      "\n",
      "[[[  0. 140.]\n",
      "  [  0. 200.]]\n",
      "\n",
      " [[  2.  68.]\n",
      "  [  8. 262.]]\n",
      "\n",
      " [[ 40.  72.]\n",
      "  [ 44. 184.]]\n",
      "\n",
      " [[  0. 240.]\n",
      "  [  0. 100.]]\n",
      "\n",
      " [[  0. 214.]\n",
      "  [  0. 126.]]\n",
      "\n",
      " [[  0. 234.]\n",
      "  [  2. 104.]]\n",
      "\n",
      " [[238.  64.]\n",
      "  [ 38.   0.]]]\n"
     ]
    }
   ],
   "source": [
    "# Your code for the confusion matrices on the training data\n",
    "print(\"#################### MODEL 1 ######################\\n\")\n",
    "\n",
    "Print_Confusion_matrix_per_fold(Lc_Model_NN_con_matrix_train, 3, \"Train data\")\n",
    "print(\"\\n##########################################\\n\")\n",
    "\n",
    "print(\"\\nPrinting Cell by Cell Summation Confusion matrix for Train data \\n\")\n",
    "print(Cell_sum_train_1)"
   ]
  },
  {
   "cell_type": "code",
   "execution_count": 88,
   "metadata": {},
   "outputs": [
    {
     "name": "stdout",
     "output_type": "stream",
     "text": [
      "#################### MODEL 2 ######################\n",
      "\n",
      "Confusion matrix for Train data for fold 1: \n",
      "[[[27 14]\n",
      "  [19 53]]\n",
      "\n",
      " [[ 0 16]\n",
      "  [ 0 97]]\n",
      "\n",
      " [[ 0 37]\n",
      "  [ 0 76]]\n",
      "\n",
      " [[76  0]\n",
      "  [37  0]]\n",
      "\n",
      " [[65  0]\n",
      "  [48  0]]\n",
      "\n",
      " [[72  0]\n",
      "  [41  0]]\n",
      "\n",
      " [[99  0]\n",
      "  [14  0]]] \n",
      "Confusion matrix for Train data for fold 2: \n",
      "[[[ 25  23]\n",
      "  [  9  56]]\n",
      "\n",
      " [[  0  25]\n",
      "  [  0  88]]\n",
      "\n",
      " [[  0  39]\n",
      "  [  0  74]]\n",
      "\n",
      " [[ 81   0]\n",
      "  [ 32   0]]\n",
      "\n",
      " [[ 75   0]\n",
      "  [ 38   0]]\n",
      "\n",
      " [[ 82   0]\n",
      "  [ 31   0]]\n",
      "\n",
      " [[105   0]\n",
      "  [  8   0]]] \n",
      "Confusion matrix for Train data for fold 3: \n",
      "[[[28 23]\n",
      "  [16 47]]\n",
      "\n",
      " [[ 0 29]\n",
      "  [ 0 85]]\n",
      "\n",
      " [[ 0 36]\n",
      "  [ 0 78]]\n",
      "\n",
      " [[83  0]\n",
      "  [31  0]]\n",
      "\n",
      " [[74  0]\n",
      "  [40  0]]\n",
      "\n",
      " [[80  0]\n",
      "  [34  0]]\n",
      "\n",
      " [[98  0]\n",
      "  [16  0]]] \n",
      "\n",
      "##########################################\n",
      "\n",
      "\n",
      "Printing Cell by Cell Summation Confusion matrix for Train data \n",
      "\n",
      "[[[ 80.  60.]\n",
      "  [ 44. 156.]]\n",
      "\n",
      " [[  0.  70.]\n",
      "  [  0. 270.]]\n",
      "\n",
      " [[  0. 112.]\n",
      "  [  0. 228.]]\n",
      "\n",
      " [[240.   0.]\n",
      "  [100.   0.]]\n",
      "\n",
      " [[214.   0.]\n",
      "  [126.   0.]]\n",
      "\n",
      " [[234.   0.]\n",
      "  [106.   0.]]\n",
      "\n",
      " [[302.   0.]\n",
      "  [ 38.   0.]]]\n"
     ]
    }
   ],
   "source": [
    "print(\"#################### MODEL 2 ######################\\n\")\n",
    "\n",
    "Print_Confusion_matrix_per_fold(Nlc_Model_NN_con_matrix_train, 3, \"Train data\")\n",
    "print(\"\\n##########################################\\n\")\n",
    "\n",
    "print(\"\\nPrinting Cell by Cell Summation Confusion matrix for Train data \\n\")\n",
    "print(Cell_sum_train_2)"
   ]
  },
  {
   "cell_type": "markdown",
   "metadata": {},
   "source": [
    "- Print the cell-by-cell summation of the confusion matrices on the test data."
   ]
  },
  {
   "cell_type": "code",
   "execution_count": 89,
   "metadata": {},
   "outputs": [
    {
     "name": "stdout",
     "output_type": "stream",
     "text": [
      "\n",
      "#################### MODEL 1 ######################\n",
      "\n",
      "Confusion matrix for Test data for fold 1: \n",
      "[[[ 0 29]\n",
      "  [ 0 28]]\n",
      "\n",
      " [[ 1 18]\n",
      "  [ 1 37]]\n",
      "\n",
      " [[ 6 13]\n",
      "  [ 8 30]]\n",
      "\n",
      " [[ 0 44]\n",
      "  [ 0 13]]\n",
      "\n",
      " [[ 0 42]\n",
      "  [ 0 15]]\n",
      "\n",
      " [[ 0 45]\n",
      "  [ 1 11]]\n",
      "\n",
      " [[42 10]\n",
      "  [ 5  0]]] \n",
      "Confusion matrix for Test data for fold 2: \n",
      "[[[ 0 22]\n",
      "  [ 0 35]]\n",
      "\n",
      " [[ 0 10]\n",
      "  [ 2 45]]\n",
      "\n",
      " [[ 8  9]\n",
      "  [ 9 31]]\n",
      "\n",
      " [[ 0 39]\n",
      "  [ 0 18]]\n",
      "\n",
      " [[ 0 32]\n",
      "  [ 0 25]]\n",
      "\n",
      " [[ 0 35]\n",
      "  [ 0 22]]\n",
      "\n",
      " [[32 14]\n",
      "  [11  0]]] \n",
      "Confusion matrix for Test data for fold 3: \n",
      "[[[ 0 19]\n",
      "  [ 0 37]]\n",
      "\n",
      " [[ 0  6]\n",
      "  [ 1 49]]\n",
      "\n",
      " [[ 6 14]\n",
      "  [ 5 31]]\n",
      "\n",
      " [[ 0 37]\n",
      "  [ 0 19]]\n",
      "\n",
      " [[ 0 33]\n",
      "  [ 0 23]]\n",
      "\n",
      " [[ 0 37]\n",
      "  [ 0 19]]\n",
      "\n",
      " [[45  8]\n",
      "  [ 3  0]]] \n",
      "\n",
      "##########################################\n",
      "\n",
      "\n",
      "Printing Cell by Cell Summation Confusion matrix for Test data \n",
      "\n",
      "[[[  0.  70.]\n",
      "  [  0. 100.]]\n",
      "\n",
      " [[  1.  34.]\n",
      "  [  4. 131.]]\n",
      "\n",
      " [[ 20.  36.]\n",
      "  [ 22.  92.]]\n",
      "\n",
      " [[  0. 120.]\n",
      "  [  0.  50.]]\n",
      "\n",
      " [[  0. 107.]\n",
      "  [  0.  63.]]\n",
      "\n",
      " [[  0. 117.]\n",
      "  [  1.  52.]]\n",
      "\n",
      " [[119.  32.]\n",
      "  [ 19.   0.]]]\n"
     ]
    }
   ],
   "source": [
    "# Your code for the confusion matrices on the test data\n",
    "print(\"\\n#################### MODEL 1 ######################\\n\")\n",
    "\n",
    "Print_Confusion_matrix_per_fold(Lc_Model_NN_con_matrix_test, 3, \"Test data\")\n",
    "print(\"\\n##########################################\\n\")\n",
    "\n",
    "print(\"\\nPrinting Cell by Cell Summation Confusion matrix for Test data \\n\")\n",
    "print(Cell_sum_test_1)"
   ]
  },
  {
   "cell_type": "code",
   "execution_count": 91,
   "metadata": {},
   "outputs": [
    {
     "name": "stdout",
     "output_type": "stream",
     "text": [
      "\n",
      "#################### MODEL 2 ######################\n",
      "\n",
      "Confusion matrix for Test data for fold 1: \n",
      "[[[13 16]\n",
      "  [ 3 25]]\n",
      "\n",
      " [[ 0 19]\n",
      "  [ 0 38]]\n",
      "\n",
      " [[ 0 19]\n",
      "  [ 0 38]]\n",
      "\n",
      " [[44  0]\n",
      "  [13  0]]\n",
      "\n",
      " [[42  0]\n",
      "  [15  0]]\n",
      "\n",
      " [[45  0]\n",
      "  [12  0]]\n",
      "\n",
      " [[52  0]\n",
      "  [ 5  0]]] \n",
      "Confusion matrix for Test data for fold 2: \n",
      "[[[15  7]\n",
      "  [13 22]]\n",
      "\n",
      " [[ 0 10]\n",
      "  [ 0 47]]\n",
      "\n",
      " [[ 0 17]\n",
      "  [ 0 40]]\n",
      "\n",
      " [[39  0]\n",
      "  [18  0]]\n",
      "\n",
      " [[32  0]\n",
      "  [25  0]]\n",
      "\n",
      " [[35  0]\n",
      "  [22  0]]\n",
      "\n",
      " [[46  0]\n",
      "  [11  0]]] \n",
      "Confusion matrix for Test data for fold 3: \n",
      "[[[12  7]\n",
      "  [ 6 31]]\n",
      "\n",
      " [[ 0  6]\n",
      "  [ 0 50]]\n",
      "\n",
      " [[ 0 20]\n",
      "  [ 0 36]]\n",
      "\n",
      " [[37  0]\n",
      "  [19  0]]\n",
      "\n",
      " [[33  0]\n",
      "  [23  0]]\n",
      "\n",
      " [[37  0]\n",
      "  [19  0]]\n",
      "\n",
      " [[53  0]\n",
      "  [ 3  0]]] \n",
      "\n",
      "##########################################\n",
      "\n",
      "\n",
      "Printing Cell by Cell Summation Confusion matrix for Test data \n",
      "\n",
      "[[[ 40.  30.]\n",
      "  [ 22.  78.]]\n",
      "\n",
      " [[  0.  35.]\n",
      "  [  0. 135.]]\n",
      "\n",
      " [[  0.  56.]\n",
      "  [  0. 114.]]\n",
      "\n",
      " [[120.   0.]\n",
      "  [ 50.   0.]]\n",
      "\n",
      " [[107.   0.]\n",
      "  [ 63.   0.]]\n",
      "\n",
      " [[117.   0.]\n",
      "  [ 53.   0.]]\n",
      "\n",
      " [[151.   0.]\n",
      "  [ 19.   0.]]]\n"
     ]
    }
   ],
   "source": [
    "# Your code for the confusion matrices on the test data\n",
    "print(\"\\n#################### MODEL 2 ######################\\n\")\n",
    "\n",
    "Print_Confusion_matrix_per_fold(Nlc_Model_NN_con_matrix_test, 3, \"Test data\")\n",
    "print(\"\\n##########################################\\n\")\n",
    "\n",
    "print(\"\\nPrinting Cell by Cell Summation Confusion matrix for Test data \\n\")\n",
    "print(Cell_sum_test_2)\n"
   ]
  },
  {
   "cell_type": "markdown",
   "metadata": {},
   "source": [
    "- Print the precision, recall and f1-scores on the test data for each fold and model. Give the unaggregated results."
   ]
  },
  {
   "cell_type": "code",
   "execution_count": 92,
   "metadata": {},
   "outputs": [
    {
     "name": "stdout",
     "output_type": "stream",
     "text": [
      "For Model 1 test data\n"
     ]
    },
    {
     "data": {
      "text/html": [
       "<div>\n",
       "<style scoped>\n",
       "    .dataframe tbody tr th:only-of-type {\n",
       "        vertical-align: middle;\n",
       "    }\n",
       "\n",
       "    .dataframe tbody tr th {\n",
       "        vertical-align: top;\n",
       "    }\n",
       "\n",
       "    .dataframe thead th {\n",
       "        text-align: right;\n",
       "    }\n",
       "</style>\n",
       "<table border=\"1\" class=\"dataframe\">\n",
       "  <thead>\n",
       "    <tr style=\"text-align: right;\">\n",
       "      <th></th>\n",
       "      <th>Precision</th>\n",
       "      <th>Recall</th>\n",
       "      <th>F1-Measure</th>\n",
       "    </tr>\n",
       "  </thead>\n",
       "  <tbody>\n",
       "    <tr>\n",
       "      <th>Fold 1</th>\n",
       "      <td>0.400000</td>\n",
       "      <td>0.899329</td>\n",
       "      <td>0.553719</td>\n",
       "    </tr>\n",
       "    <tr>\n",
       "      <th>Fold 2</th>\n",
       "      <td>0.522255</td>\n",
       "      <td>0.888889</td>\n",
       "      <td>0.657944</td>\n",
       "    </tr>\n",
       "    <tr>\n",
       "      <th>Fold 3</th>\n",
       "      <td>0.536145</td>\n",
       "      <td>0.951872</td>\n",
       "      <td>0.685934</td>\n",
       "    </tr>\n",
       "  </tbody>\n",
       "</table>\n",
       "</div>"
      ],
      "text/plain": [
       "        Precision    Recall  F1-Measure\n",
       "Fold 1   0.400000  0.899329    0.553719\n",
       "Fold 2   0.522255  0.888889    0.657944\n",
       "Fold 3   0.536145  0.951872    0.685934"
      ]
     },
     "execution_count": 92,
     "metadata": {},
     "output_type": "execute_result"
    }
   ],
   "source": [
    "# Your code for precision, recall and F1-scores on the test data\n",
    "\n",
    "#print(Lc_Model_NN_perf_test)\n",
    "result = pd.DataFrame(Lc_Model_NN_perf_test, columns=['Precision','Recall','F1-Measure', 'None'])\n",
    "result = result.drop(['None'], axis = 1)\n",
    "#result = result[:-1]\n",
    "result.index = ['Fold 1', 'Fold 2', 'Fold 3']\n",
    "#result.columns = ['Fold 1', 'Fold 2', 'Fold 3']\n",
    "print(\"For Model 1 test data\")\n",
    "result\n"
   ]
  },
  {
   "cell_type": "code",
   "execution_count": 93,
   "metadata": {},
   "outputs": [
    {
     "name": "stdout",
     "output_type": "stream",
     "text": [
      "For Model 2 test data\n"
     ]
    },
    {
     "data": {
      "text/html": [
       "<div>\n",
       "<style scoped>\n",
       "    .dataframe tbody tr th:only-of-type {\n",
       "        vertical-align: middle;\n",
       "    }\n",
       "\n",
       "    .dataframe tbody tr th {\n",
       "        vertical-align: top;\n",
       "    }\n",
       "\n",
       "    .dataframe thead th {\n",
       "        text-align: right;\n",
       "    }\n",
       "</style>\n",
       "<table border=\"1\" class=\"dataframe\">\n",
       "  <thead>\n",
       "    <tr style=\"text-align: right;\">\n",
       "      <th></th>\n",
       "      <th>Precision</th>\n",
       "      <th>Recall</th>\n",
       "      <th>F1-Measure</th>\n",
       "    </tr>\n",
       "  </thead>\n",
       "  <tbody>\n",
       "    <tr>\n",
       "      <th>Fold 1</th>\n",
       "      <td>0.651613</td>\n",
       "      <td>0.677852</td>\n",
       "      <td>0.664474</td>\n",
       "    </tr>\n",
       "    <tr>\n",
       "      <th>Fold 2</th>\n",
       "      <td>0.762238</td>\n",
       "      <td>0.550505</td>\n",
       "      <td>0.639296</td>\n",
       "    </tr>\n",
       "    <tr>\n",
       "      <th>Fold 3</th>\n",
       "      <td>0.780000</td>\n",
       "      <td>0.625668</td>\n",
       "      <td>0.694362</td>\n",
       "    </tr>\n",
       "  </tbody>\n",
       "</table>\n",
       "</div>"
      ],
      "text/plain": [
       "        Precision    Recall  F1-Measure\n",
       "Fold 1   0.651613  0.677852    0.664474\n",
       "Fold 2   0.762238  0.550505    0.639296\n",
       "Fold 3   0.780000  0.625668    0.694362"
      ]
     },
     "execution_count": 93,
     "metadata": {},
     "output_type": "execute_result"
    }
   ],
   "source": [
    "# Your code for precision, recall and F1-scores on the test data\n",
    "\n",
    "#print(Lc_Model_NN_perf_test)\n",
    "result_2 = pd.DataFrame(Nlc_Model_NN_perf_test, columns=['Precision','Recall','F1-Measure', 'None'])\n",
    "result_2 = result_2.drop(['None'], axis = 1)\n",
    "#result = result[:-1]\n",
    "result_2.index = ['Fold 1', 'Fold 2', 'Fold 3']\n",
    "#result.columns = ['Fold 1', 'Fold 2', 'Fold 3']\n",
    "print(\"For Model 2 test data\")\n",
    "result_2\n"
   ]
  },
  {
   "cell_type": "markdown",
   "metadata": {},
   "source": [
    "- Compute accuracy scores on training and test data (give explicitly the result for each fold)."
   ]
  },
  {
   "cell_type": "code",
   "execution_count": 94,
   "metadata": {},
   "outputs": [
    {
     "name": "stdout",
     "output_type": "stream",
     "text": [
      "Accuracy scores for model 1\n"
     ]
    },
    {
     "data": {
      "text/html": [
       "<div>\n",
       "<style scoped>\n",
       "    .dataframe tbody tr th:only-of-type {\n",
       "        vertical-align: middle;\n",
       "    }\n",
       "\n",
       "    .dataframe tbody tr th {\n",
       "        vertical-align: top;\n",
       "    }\n",
       "\n",
       "    .dataframe thead th {\n",
       "        text-align: right;\n",
       "    }\n",
       "</style>\n",
       "<table border=\"1\" class=\"dataframe\">\n",
       "  <thead>\n",
       "    <tr style=\"text-align: right;\">\n",
       "      <th></th>\n",
       "      <th>Training data</th>\n",
       "      <th>Test data</th>\n",
       "    </tr>\n",
       "  </thead>\n",
       "  <tbody>\n",
       "    <tr>\n",
       "      <th>Fold 1</th>\n",
       "      <td>0.079646</td>\n",
       "      <td>0.000000</td>\n",
       "    </tr>\n",
       "    <tr>\n",
       "      <th>Fold 2</th>\n",
       "      <td>0.053097</td>\n",
       "      <td>0.052632</td>\n",
       "    </tr>\n",
       "    <tr>\n",
       "      <th>Fold 3</th>\n",
       "      <td>0.026316</td>\n",
       "      <td>0.107143</td>\n",
       "    </tr>\n",
       "  </tbody>\n",
       "</table>\n",
       "</div>"
      ],
      "text/plain": [
       "        Training data  Test data\n",
       "Fold 1       0.079646   0.000000\n",
       "Fold 2       0.053097   0.052632\n",
       "Fold 3       0.026316   0.107143"
      ]
     },
     "execution_count": 94,
     "metadata": {},
     "output_type": "execute_result"
    }
   ],
   "source": [
    "# Your code for accuracy scores on training and test data\n",
    "#Lc_Model_NN_acc_train\n",
    "#Lc_Model_NN_acc_test\n",
    "result = pd.DataFrame(Lc_Model_NN_acc_train, columns = ['Training data'])\n",
    "result['Test data'] = Lc_Model_NN_acc_test\n",
    "result.index = ['Fold 1', 'Fold 2', 'Fold 3']\n",
    "#result = pd.DataFrame(Lc_Model_NN_acc_test,  )\n",
    "print(\"Accuracy scores for model 1\")\n",
    "result\n",
    "#Lc_Model_NN_acc_test"
   ]
  },
  {
   "cell_type": "code",
   "execution_count": 95,
   "metadata": {},
   "outputs": [
    {
     "name": "stdout",
     "output_type": "stream",
     "text": [
      "Accuracy scores for model 2\n"
     ]
    },
    {
     "data": {
      "text/html": [
       "<div>\n",
       "<style scoped>\n",
       "    .dataframe tbody tr th:only-of-type {\n",
       "        vertical-align: middle;\n",
       "    }\n",
       "\n",
       "    .dataframe tbody tr th {\n",
       "        vertical-align: top;\n",
       "    }\n",
       "\n",
       "    .dataframe thead th {\n",
       "        text-align: right;\n",
       "    }\n",
       "</style>\n",
       "<table border=\"1\" class=\"dataframe\">\n",
       "  <thead>\n",
       "    <tr style=\"text-align: right;\">\n",
       "      <th></th>\n",
       "      <th>Training data</th>\n",
       "      <th>Test data</th>\n",
       "    </tr>\n",
       "  </thead>\n",
       "  <tbody>\n",
       "    <tr>\n",
       "      <th>Fold 1</th>\n",
       "      <td>0.088496</td>\n",
       "      <td>0.122807</td>\n",
       "    </tr>\n",
       "    <tr>\n",
       "      <th>Fold 2</th>\n",
       "      <td>0.106195</td>\n",
       "      <td>0.087719</td>\n",
       "    </tr>\n",
       "    <tr>\n",
       "      <th>Fold 3</th>\n",
       "      <td>0.105263</td>\n",
       "      <td>0.089286</td>\n",
       "    </tr>\n",
       "  </tbody>\n",
       "</table>\n",
       "</div>"
      ],
      "text/plain": [
       "        Training data  Test data\n",
       "Fold 1       0.088496   0.122807\n",
       "Fold 2       0.106195   0.087719\n",
       "Fold 3       0.105263   0.089286"
      ]
     },
     "execution_count": 95,
     "metadata": {},
     "output_type": "execute_result"
    }
   ],
   "source": [
    "# Your code for accuracy scores on training and test data\n",
    "#Nlc_Model_NN_acc_train\n",
    "#Nlc_Model_NN_acc_test\n",
    "result_2 = pd.DataFrame(Nlc_Model_NN_acc_train, columns = ['Training data'])\n",
    "result_2['Test data'] = Nlc_Model_NN_acc_test\n",
    "result_2.index = ['Fold 1', 'Fold 2', 'Fold 3']\n",
    "#result = pd.DataFrame(Lc_Model_NN_acc_test,  )\n",
    "print(\"Accuracy scores for model 2\")\n",
    "result_2\n"
   ]
  },
  {
   "cell_type": "markdown",
   "metadata": {},
   "source": [
    "In order to turn numbers into insights, please comment on your findings. Motivate the answers to the following questions using the metrics and the findings in the **questions 2 through 5** of the assignment."
   ]
  },
  {
   "cell_type": "markdown",
   "metadata": {},
   "source": [
    "   (b) What is, in your opinion, the best model? Motivate your answer with the findings above."
   ]
  },
  {
   "cell_type": "markdown",
   "metadata": {},
   "source": [
    "Explanation:\n",
    "\n",
    "In Q2 decision trees, we trained 2 trees, the first one seems good but the second one is certainly overfitting. If we need model interpretation, the decision tree model can be preferred. Also, since our current dataset is small and contains mostly feature data (not raw data), decision tree is an option.\n",
    "\n",
    "In Q3 Regression, we trained 2 models for green frogs and brown frogs. The confusion matrices are both not good. They might suffer from underfitting.\n",
    "\n",
    "In Q4 SVM, we trained 2 models for green frogs and brown frogs as well. If we use C=1, kernel='rbf', the model for green frog is good and fast. But for brown frogs, it's not good. Still SVM is better than Regression because it has better performance on nonlinear separable problems.\n",
    "\n",
    "In Q5 neural network, we trained 2 models with linear and non-linear activation functions for all frog types, and models for each frog type. A dataset of 170 is not enough for neural network to work well on multiclassification problems. Models for each frog type are better.\n",
    "\n",
    "In sum, decision tree with proper parameter (tree1) and neural network for each type of frog would be best models. If we need interpretation and simple model, we can choose decision tree. If we have more data, we can choose neural network."
   ]
  },
  {
   "cell_type": "markdown",
   "metadata": {},
   "source": [
    "   (c) Does any model suffer from underfitting or overfitting? Motivate your answer with the findings above."
   ]
  },
  {
   "cell_type": "markdown",
   "metadata": {},
   "source": [
    "Explanation:\n",
    "\n",
    "The second decision tree we trained is certainly overfitting because it tries to fit every single item in the training set. Thus, it is not useful for other datasets. \n",
    "\n",
    "Regression models might suffer from underfitting because even the accuracy on training data is low."
   ]
  },
  {
   "cell_type": "markdown",
   "metadata": {},
   "source": [
    "## Question 7 - Clustering (8 points): "
   ]
  },
  {
   "cell_type": "markdown",
   "metadata": {},
   "source": [
    "(a) For this question, use the extracted data set you created in the preprocessing step (sampled_data). Drop all the columns expect \"VegetationR\", \"UseR\", \"FishingR\", \"RoadDistanceR\", \"BuildingR\", \"RoadDistanceR\", and \"PollutionR\". Use a dendogram to find the overview of the clusters that you can extract for the remaining columns."
   ]
  },
  {
   "cell_type": "code",
   "execution_count": 1,
   "metadata": {},
   "outputs": [
    {
     "data": {
      "image/png": "[encoded data removed]",
      "text/plain": [
       "<Figure size 1296x720 with 1 Axes>"
      ]
     },
     "metadata": {
      "needs_background": "light"
     },
     "output_type": "display_data"
    }
   ],
   "source": [
    "# Your code\n",
    "import pandas as pd\n",
    "from scipy.spatial.distance import pdist\n",
    "from scipy.cluster.hierarchy import linkage, dendrogram\n",
    "from matplotlib import pyplot as plt\n",
    "from sklearn.preprocessing import normalize\n",
    "\n",
    "df = pd.read_csv(\"sampled_data.csv\", header=0)\n",
    "df = df[['VegetationR', 'UseR', 'FishingR', 'RoadDistanceR', 'BuildingR', 'PollutionR']]\n",
    "df = pd.DataFrame(normalize(df), columns=df.columns)\n",
    "plt.figure(figsize=(18,10))\n",
    "plt.title('Dendrogram')\n",
    "dn = dendrogram(linkage(df, method = \"ward\"))"
   ]
  },
  {
   "cell_type": "markdown",
   "metadata": {},
   "source": [
    "(b) What does the vertical and horizontal axis show in the dendogram? Why the distance between the clusters in the dendogram generally decreases, when we go from top to down in the dendogram?"
   ]
  },
  {
   "cell_type": "markdown",
   "metadata": {},
   "source": [
    "Explanation: The vertical axis shows the distance or dissimilarity between clusters and the horizontal axis shows all the instances and clusters. The distance between the clusters in the dendogram generally decreases when we go from top to bottom because of the nature of the algorithm of agglomerative clustering. We start from the bottom with each point in cluster of its own, we find the closest pair of clusters and merge them. Eventually after repeating the process and and going towards top the distance between the clusters keep on increasing."
   ]
  },
  {
   "cell_type": "markdown",
   "metadata": {},
   "source": [
    "(c) Split the diagram at 3 and find the number the clusters at this point."
   ]
  },
  {
   "cell_type": "code",
   "execution_count": 2,
   "metadata": {},
   "outputs": [
    {
     "data": {
      "image/png": "[encoded data removed]",
      "text/plain": [
       "<Figure size 1296x720 with 1 Axes>"
      ]
     },
     "metadata": {
      "needs_background": "light"
     },
     "output_type": "display_data"
    }
   ],
   "source": [
    "# Your code\n",
    "plt.figure(figsize=(18,10))\n",
    "plt.title('Dendrogram')\n",
    "dn = dendrogram(linkage(df, method  = \"ward\"))\n",
    "plt.axhline(y=3, color='r', linestyle='--')\n",
    "plt.show()"
   ]
  },
  {
   "cell_type": "markdown",
   "metadata": {},
   "source": [
    "Explanation: We can see from the figure above that the dashed line is splitting the dendrogram at 3 points. So we shall consider the number of clusters to be 3."
   ]
  },
  {
   "cell_type": "markdown",
   "metadata": {},
   "source": [
    "(d) Using agglomerative clustering with the number of clusters found in the previous section and a scatter diagram, show the discovered cluster for \"VegetationR\" and \"UseR\" in different colors. "
   ]
  },
  {
   "cell_type": "code",
   "execution_count": 3,
   "metadata": {},
   "outputs": [
    {
     "data": {
      "image/png": "[encoded data removed]",
      "text/plain": [
       "<Figure size 720x432 with 1 Axes>"
      ]
     },
     "metadata": {
      "needs_background": "light"
     },
     "output_type": "display_data"
    }
   ],
   "source": [
    "# Your code\n",
    "from sklearn.cluster import AgglomerativeClustering\n",
    "cluster = AgglomerativeClustering(n_clusters=3, affinity='euclidean', linkage='ward')  \n",
    "cluster.fit_predict(df)\n",
    "plt.figure(figsize=(10, 6))  \n",
    "plt.scatter(df['VegetationR'], df['UseR'], c=cluster.labels_, cmap='rainbow')\n",
    "plt.show()"
   ]
  }
 ],
 "metadata": {
  "kernelspec": {
   "display_name": "Python 3",
   "language": "python",
   "name": "python3"
  },
  "language_info": {
   "codemirror_mode": {
    "name": "ipython",
    "version": 3
   },
   "file_extension": ".py",
   "mimetype": "text/x-python",
   "name": "python",
   "nbconvert_exporter": "python",
   "pygments_lexer": "ipython3",
   "version": "3.8.3"
  },
  "toc": {
   "base_numbering": 1,
   "nav_menu": {},
   "number_sections": true,
   "sideBar": true,
   "skip_h1_title": false,
   "title_cell": "Table of Contents",
   "title_sidebar": "Contents",
   "toc_cell": false,
   "toc_position": {
    "height": "calc(100% - 180px)",
    "left": "10px",
    "top": "150px",
    "width": "371.594px"
   },
   "toc_section_display": true,
   "toc_window_display": true
  }
 },
 "nbformat": 4,
 "nbformat_minor": 2
}
